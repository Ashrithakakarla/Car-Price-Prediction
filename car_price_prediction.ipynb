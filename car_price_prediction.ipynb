{
  "nbformat": 4,
  "nbformat_minor": 0,
  "metadata": {
    "colab": {
      "name": "car_price_prediction.ipynb",
      "provenance": [],
      "collapsed_sections": [],
      "toc_visible": true
    },
    "kernelspec": {
      "display_name": "Python 3",
      "name": "python3"
    },
    "language_info": {
      "name": "python"
    }
  },
  "cells": [
    {
      "cell_type": "markdown",
      "metadata": {
        "id": "RKtF-8KH6IbX"
      },
      "source": [
        "###AHASANA SULTANA <BR>\n",
        "###ASHRITHA K <BR>\n",
        "###HARSHITHA V SONEJI <BR>\n",
        "###PULKIT KHANDELWAL\n"
      ]
    },
    {
      "cell_type": "markdown",
      "metadata": {
        "id": "IajYTRFgOnEH"
      },
      "source": [
        "# Predicting Car selling price using Machine Learning\n",
        "\n",
        "This notebook looks into using various Python-based ML and Data Science libraries in an attempt to build a Machine Learning\n",
        "model capable of predicting selling price of car based on various attributes.\n",
        "\n",
        "We're going to take the following approach:\n",
        "1. Problem Definition\n",
        "2. Data\n",
        "3. Evaluation\n",
        "4. Features\n",
        "5. Modelling\n"
      ]
    },
    {
      "cell_type": "markdown",
      "metadata": {
        "id": "401IT0QmlqSQ"
      },
      "source": [
        "## 1. Problem Defintion\n",
        "\n",
        "In a statement,\n",
        "> Given various factors of the car in the form of independent variables, which can be used to  predict the car selling price?"
      ]
    },
    {
      "cell_type": "markdown",
      "metadata": {
        "id": "lcU9p6R4lqSQ"
      },
      "source": [
        "## 2. Data\n",
        "\n",
        "The original data came from the Cleavland data from the Kaggle Machine Learning Repository\n",
        "\n",
        "\n",
        "<a href=\"https://www.kaggle.com/nehalbirla/vehicle-dataset-from-cardekho\">Car Price Prediction</a>"
      ]
    },
    {
      "cell_type": "markdown",
      "metadata": {
        "id": "IaDHyOUjlqSQ"
      },
      "source": [
        "## 3. Evaluation\n",
        "\n",
        "**Target to reach more than 75%**\n",
        "\n",
        "If the model scored better than 75% we will select the model\n"
      ]
    },
    {
      "cell_type": "markdown",
      "metadata": {
        "id": "CO3QoC-YS8NC"
      },
      "source": [
        "##4.Features <br>\n",
        "Features are available in the data set for reference"
      ]
    },
    {
      "cell_type": "markdown",
      "metadata": {
        "id": "tKt3VkNnlqSQ"
      },
      "source": [
        "\n",
        "## Preparing the tools\n",
        " \n",
        "**We are going to use :-**\n",
        "\n",
        "* Pandas & Numpy for Data Analysis and Manipulation\n",
        "\n",
        "\n",
        "* Matplotlib and Seaborn for Data Visualisation\n",
        "\n",
        "\n",
        "* Scikit-Learn for the Modeling building and Reports"
      ]
    },
    {
      "cell_type": "code",
      "metadata": {
        "id": "75sOYmj8TC25"
      },
      "source": [
        "# Import all the tools we need\n",
        "\n",
        "# Regular EDA(Exploratory data analysis) and plotting libraries\n",
        "%matplotlib inline\n",
        "import pandas as pd\n",
        "import numpy as np\n",
        "import matplotlib.pyplot as plt\n",
        "import seaborn as sns\n",
        "import datetime\n",
        "\n",
        "# Models from Scikit-Learn\n",
        "from sklearn import metrics\n",
        "from sklearn.ensemble import RandomForestRegressor\n",
        "from sklearn.metrics import mean_absolute_error as MAE\n",
        "from sklearn.metrics import mean_squared_error as MSE\n",
        "from sklearn.metrics import r2_score\n",
        "\n",
        "# Model Evaluations\n",
        "from sklearn.model_selection import train_test_split\n",
        "from sklearn.model_selection import RandomizedSearchCV\n",
        "\n",
        "#Ignoring the warnings\n",
        "import warnings\n",
        "warnings.filterwarnings(\"ignore\")\n"
      ],
      "execution_count": null,
      "outputs": []
    },
    {
      "cell_type": "markdown",
      "metadata": {
        "id": "S3ufZR6ClqSR"
      },
      "source": [
        "### Importing the dataset"
      ]
    },
    {
      "cell_type": "code",
      "metadata": {
        "id": "IrohyK-nLIP4"
      },
      "source": [
        "Car_Data_1 = pd.read_csv('/content/CAR DETAILS FROM CAR DEKHO.csv')\n",
        "Car_Data_2 = pd.read_csv('/content/Car details v3.csv') \n",
        "Car_Data_3 = pd.read_csv('/content/car data.csv')\n",
        " "
      ],
      "execution_count": null,
      "outputs": []
    },
    {
      "cell_type": "markdown",
      "metadata": {
        "id": "tWoB2ScdT2mG"
      },
      "source": [
        "### Head of the dataset"
      ]
    },
    {
      "cell_type": "code",
      "metadata": {
        "colab": {
          "base_uri": "https://localhost:8080/",
          "height": 195
        },
        "id": "dnDdh59G39s3",
        "outputId": "47ee74cd-96a2-45b3-a593-fa4407f7f798"
      },
      "source": [
        "#First 5 records of the dataset\n",
        "Car_Data_1.head() "
      ],
      "execution_count": null,
      "outputs": [
        {
          "output_type": "execute_result",
          "data": {
            "text/html": [
              "<div>\n",
              "<style scoped>\n",
              "    .dataframe tbody tr th:only-of-type {\n",
              "        vertical-align: middle;\n",
              "    }\n",
              "\n",
              "    .dataframe tbody tr th {\n",
              "        vertical-align: top;\n",
              "    }\n",
              "\n",
              "    .dataframe thead th {\n",
              "        text-align: right;\n",
              "    }\n",
              "</style>\n",
              "<table border=\"1\" class=\"dataframe\">\n",
              "  <thead>\n",
              "    <tr style=\"text-align: right;\">\n",
              "      <th></th>\n",
              "      <th>name</th>\n",
              "      <th>year</th>\n",
              "      <th>selling_price</th>\n",
              "      <th>km_driven</th>\n",
              "      <th>fuel</th>\n",
              "      <th>seller_type</th>\n",
              "      <th>transmission</th>\n",
              "      <th>owner</th>\n",
              "    </tr>\n",
              "  </thead>\n",
              "  <tbody>\n",
              "    <tr>\n",
              "      <th>0</th>\n",
              "      <td>Maruti 800 AC</td>\n",
              "      <td>2007</td>\n",
              "      <td>60000</td>\n",
              "      <td>70000</td>\n",
              "      <td>Petrol</td>\n",
              "      <td>Individual</td>\n",
              "      <td>Manual</td>\n",
              "      <td>First Owner</td>\n",
              "    </tr>\n",
              "    <tr>\n",
              "      <th>1</th>\n",
              "      <td>Maruti Wagon R LXI Minor</td>\n",
              "      <td>2007</td>\n",
              "      <td>135000</td>\n",
              "      <td>50000</td>\n",
              "      <td>Petrol</td>\n",
              "      <td>Individual</td>\n",
              "      <td>Manual</td>\n",
              "      <td>First Owner</td>\n",
              "    </tr>\n",
              "    <tr>\n",
              "      <th>2</th>\n",
              "      <td>Hyundai Verna 1.6 SX</td>\n",
              "      <td>2012</td>\n",
              "      <td>600000</td>\n",
              "      <td>100000</td>\n",
              "      <td>Diesel</td>\n",
              "      <td>Individual</td>\n",
              "      <td>Manual</td>\n",
              "      <td>First Owner</td>\n",
              "    </tr>\n",
              "    <tr>\n",
              "      <th>3</th>\n",
              "      <td>Datsun RediGO T Option</td>\n",
              "      <td>2017</td>\n",
              "      <td>250000</td>\n",
              "      <td>46000</td>\n",
              "      <td>Petrol</td>\n",
              "      <td>Individual</td>\n",
              "      <td>Manual</td>\n",
              "      <td>First Owner</td>\n",
              "    </tr>\n",
              "    <tr>\n",
              "      <th>4</th>\n",
              "      <td>Honda Amaze VX i-DTEC</td>\n",
              "      <td>2014</td>\n",
              "      <td>450000</td>\n",
              "      <td>141000</td>\n",
              "      <td>Diesel</td>\n",
              "      <td>Individual</td>\n",
              "      <td>Manual</td>\n",
              "      <td>Second Owner</td>\n",
              "    </tr>\n",
              "  </tbody>\n",
              "</table>\n",
              "</div>"
            ],
            "text/plain": [
              "                       name  year  ...  transmission         owner\n",
              "0             Maruti 800 AC  2007  ...        Manual   First Owner\n",
              "1  Maruti Wagon R LXI Minor  2007  ...        Manual   First Owner\n",
              "2      Hyundai Verna 1.6 SX  2012  ...        Manual   First Owner\n",
              "3    Datsun RediGO T Option  2017  ...        Manual   First Owner\n",
              "4     Honda Amaze VX i-DTEC  2014  ...        Manual  Second Owner\n",
              "\n",
              "[5 rows x 8 columns]"
            ]
          },
          "metadata": {
            "tags": []
          },
          "execution_count": 3
        }
      ]
    },
    {
      "cell_type": "code",
      "metadata": {
        "colab": {
          "base_uri": "https://localhost:8080/",
          "height": 346
        },
        "id": "HooAQxMHNgnn",
        "outputId": "c21ead04-6709-4fbb-e9db-92a0366c3acd"
      },
      "source": [
        "#First 5 records of the dataset\n",
        "Car_Data_2.head() "
      ],
      "execution_count": null,
      "outputs": [
        {
          "output_type": "execute_result",
          "data": {
            "text/html": [
              "<div>\n",
              "<style scoped>\n",
              "    .dataframe tbody tr th:only-of-type {\n",
              "        vertical-align: middle;\n",
              "    }\n",
              "\n",
              "    .dataframe tbody tr th {\n",
              "        vertical-align: top;\n",
              "    }\n",
              "\n",
              "    .dataframe thead th {\n",
              "        text-align: right;\n",
              "    }\n",
              "</style>\n",
              "<table border=\"1\" class=\"dataframe\">\n",
              "  <thead>\n",
              "    <tr style=\"text-align: right;\">\n",
              "      <th></th>\n",
              "      <th>name</th>\n",
              "      <th>year</th>\n",
              "      <th>selling_price</th>\n",
              "      <th>km_driven</th>\n",
              "      <th>fuel</th>\n",
              "      <th>seller_type</th>\n",
              "      <th>transmission</th>\n",
              "      <th>owner</th>\n",
              "      <th>mileage</th>\n",
              "      <th>engine</th>\n",
              "      <th>max_power</th>\n",
              "      <th>torque</th>\n",
              "      <th>seats</th>\n",
              "    </tr>\n",
              "  </thead>\n",
              "  <tbody>\n",
              "    <tr>\n",
              "      <th>0</th>\n",
              "      <td>Maruti Swift Dzire VDI</td>\n",
              "      <td>2014</td>\n",
              "      <td>450000</td>\n",
              "      <td>145500</td>\n",
              "      <td>Diesel</td>\n",
              "      <td>Individual</td>\n",
              "      <td>Manual</td>\n",
              "      <td>First Owner</td>\n",
              "      <td>23.4 kmpl</td>\n",
              "      <td>1248 CC</td>\n",
              "      <td>74 bhp</td>\n",
              "      <td>190Nm@ 2000rpm</td>\n",
              "      <td>5.0</td>\n",
              "    </tr>\n",
              "    <tr>\n",
              "      <th>1</th>\n",
              "      <td>Skoda Rapid 1.5 TDI Ambition</td>\n",
              "      <td>2014</td>\n",
              "      <td>370000</td>\n",
              "      <td>120000</td>\n",
              "      <td>Diesel</td>\n",
              "      <td>Individual</td>\n",
              "      <td>Manual</td>\n",
              "      <td>Second Owner</td>\n",
              "      <td>21.14 kmpl</td>\n",
              "      <td>1498 CC</td>\n",
              "      <td>103.52 bhp</td>\n",
              "      <td>250Nm@ 1500-2500rpm</td>\n",
              "      <td>5.0</td>\n",
              "    </tr>\n",
              "    <tr>\n",
              "      <th>2</th>\n",
              "      <td>Honda City 2017-2020 EXi</td>\n",
              "      <td>2006</td>\n",
              "      <td>158000</td>\n",
              "      <td>140000</td>\n",
              "      <td>Petrol</td>\n",
              "      <td>Individual</td>\n",
              "      <td>Manual</td>\n",
              "      <td>Third Owner</td>\n",
              "      <td>17.7 kmpl</td>\n",
              "      <td>1497 CC</td>\n",
              "      <td>78 bhp</td>\n",
              "      <td>12.7@ 2,700(kgm@ rpm)</td>\n",
              "      <td>5.0</td>\n",
              "    </tr>\n",
              "    <tr>\n",
              "      <th>3</th>\n",
              "      <td>Hyundai i20 Sportz Diesel</td>\n",
              "      <td>2010</td>\n",
              "      <td>225000</td>\n",
              "      <td>127000</td>\n",
              "      <td>Diesel</td>\n",
              "      <td>Individual</td>\n",
              "      <td>Manual</td>\n",
              "      <td>First Owner</td>\n",
              "      <td>23.0 kmpl</td>\n",
              "      <td>1396 CC</td>\n",
              "      <td>90 bhp</td>\n",
              "      <td>22.4 kgm at 1750-2750rpm</td>\n",
              "      <td>5.0</td>\n",
              "    </tr>\n",
              "    <tr>\n",
              "      <th>4</th>\n",
              "      <td>Maruti Swift VXI BSIII</td>\n",
              "      <td>2007</td>\n",
              "      <td>130000</td>\n",
              "      <td>120000</td>\n",
              "      <td>Petrol</td>\n",
              "      <td>Individual</td>\n",
              "      <td>Manual</td>\n",
              "      <td>First Owner</td>\n",
              "      <td>16.1 kmpl</td>\n",
              "      <td>1298 CC</td>\n",
              "      <td>88.2 bhp</td>\n",
              "      <td>11.5@ 4,500(kgm@ rpm)</td>\n",
              "      <td>5.0</td>\n",
              "    </tr>\n",
              "  </tbody>\n",
              "</table>\n",
              "</div>"
            ],
            "text/plain": [
              "                           name  year  ...                    torque  seats\n",
              "0        Maruti Swift Dzire VDI  2014  ...            190Nm@ 2000rpm    5.0\n",
              "1  Skoda Rapid 1.5 TDI Ambition  2014  ...       250Nm@ 1500-2500rpm    5.0\n",
              "2      Honda City 2017-2020 EXi  2006  ...     12.7@ 2,700(kgm@ rpm)    5.0\n",
              "3     Hyundai i20 Sportz Diesel  2010  ...  22.4 kgm at 1750-2750rpm    5.0\n",
              "4        Maruti Swift VXI BSIII  2007  ...     11.5@ 4,500(kgm@ rpm)    5.0\n",
              "\n",
              "[5 rows x 13 columns]"
            ]
          },
          "metadata": {
            "tags": []
          },
          "execution_count": 4
        }
      ]
    },
    {
      "cell_type": "code",
      "metadata": {
        "colab": {
          "base_uri": "https://localhost:8080/",
          "height": 195
        },
        "id": "cIQjXRg5LYtw",
        "outputId": "903e150d-47be-4438-ebaa-cc6b52e50c5a"
      },
      "source": [
        "#First 5 records of the dataset\n",
        "Car_Data_3.head() "
      ],
      "execution_count": null,
      "outputs": [
        {
          "output_type": "execute_result",
          "data": {
            "text/html": [
              "<div>\n",
              "<style scoped>\n",
              "    .dataframe tbody tr th:only-of-type {\n",
              "        vertical-align: middle;\n",
              "    }\n",
              "\n",
              "    .dataframe tbody tr th {\n",
              "        vertical-align: top;\n",
              "    }\n",
              "\n",
              "    .dataframe thead th {\n",
              "        text-align: right;\n",
              "    }\n",
              "</style>\n",
              "<table border=\"1\" class=\"dataframe\">\n",
              "  <thead>\n",
              "    <tr style=\"text-align: right;\">\n",
              "      <th></th>\n",
              "      <th>Car_Name</th>\n",
              "      <th>Year</th>\n",
              "      <th>Selling_Price</th>\n",
              "      <th>Present_Price</th>\n",
              "      <th>Kms_Driven</th>\n",
              "      <th>Fuel_Type</th>\n",
              "      <th>Seller_Type</th>\n",
              "      <th>Transmission</th>\n",
              "      <th>Owner</th>\n",
              "    </tr>\n",
              "  </thead>\n",
              "  <tbody>\n",
              "    <tr>\n",
              "      <th>0</th>\n",
              "      <td>ritz</td>\n",
              "      <td>2014</td>\n",
              "      <td>3.35</td>\n",
              "      <td>5.59</td>\n",
              "      <td>27000</td>\n",
              "      <td>Petrol</td>\n",
              "      <td>Dealer</td>\n",
              "      <td>Manual</td>\n",
              "      <td>0</td>\n",
              "    </tr>\n",
              "    <tr>\n",
              "      <th>1</th>\n",
              "      <td>sx4</td>\n",
              "      <td>2013</td>\n",
              "      <td>4.75</td>\n",
              "      <td>9.54</td>\n",
              "      <td>43000</td>\n",
              "      <td>Diesel</td>\n",
              "      <td>Dealer</td>\n",
              "      <td>Manual</td>\n",
              "      <td>0</td>\n",
              "    </tr>\n",
              "    <tr>\n",
              "      <th>2</th>\n",
              "      <td>ciaz</td>\n",
              "      <td>2017</td>\n",
              "      <td>7.25</td>\n",
              "      <td>9.85</td>\n",
              "      <td>6900</td>\n",
              "      <td>Petrol</td>\n",
              "      <td>Dealer</td>\n",
              "      <td>Manual</td>\n",
              "      <td>0</td>\n",
              "    </tr>\n",
              "    <tr>\n",
              "      <th>3</th>\n",
              "      <td>wagon r</td>\n",
              "      <td>2011</td>\n",
              "      <td>2.85</td>\n",
              "      <td>4.15</td>\n",
              "      <td>5200</td>\n",
              "      <td>Petrol</td>\n",
              "      <td>Dealer</td>\n",
              "      <td>Manual</td>\n",
              "      <td>0</td>\n",
              "    </tr>\n",
              "    <tr>\n",
              "      <th>4</th>\n",
              "      <td>swift</td>\n",
              "      <td>2014</td>\n",
              "      <td>4.60</td>\n",
              "      <td>6.87</td>\n",
              "      <td>42450</td>\n",
              "      <td>Diesel</td>\n",
              "      <td>Dealer</td>\n",
              "      <td>Manual</td>\n",
              "      <td>0</td>\n",
              "    </tr>\n",
              "  </tbody>\n",
              "</table>\n",
              "</div>"
            ],
            "text/plain": [
              "  Car_Name  Year  Selling_Price  ...  Seller_Type  Transmission Owner\n",
              "0     ritz  2014           3.35  ...       Dealer        Manual     0\n",
              "1      sx4  2013           4.75  ...       Dealer        Manual     0\n",
              "2     ciaz  2017           7.25  ...       Dealer        Manual     0\n",
              "3  wagon r  2011           2.85  ...       Dealer        Manual     0\n",
              "4    swift  2014           4.60  ...       Dealer        Manual     0\n",
              "\n",
              "[5 rows x 9 columns]"
            ]
          },
          "metadata": {
            "tags": []
          },
          "execution_count": 5
        }
      ]
    },
    {
      "cell_type": "markdown",
      "metadata": {
        "id": "-GVFx7nYlqSU"
      },
      "source": [
        "<br><br>\n",
        "# Exploratory Data analysis\n",
        "<br>"
      ]
    },
    {
      "cell_type": "markdown",
      "metadata": {
        "id": "vHE9Tj_Kkdbl"
      },
      "source": [
        "###Shape of the Data"
      ]
    },
    {
      "cell_type": "code",
      "metadata": {
        "colab": {
          "base_uri": "https://localhost:8080/"
        },
        "id": "LwWfzGOekMPv",
        "outputId": "41932286-17a1-46ca-e89f-453be704a4b1"
      },
      "source": [
        "Car_Data_1.shape"
      ],
      "execution_count": null,
      "outputs": [
        {
          "output_type": "execute_result",
          "data": {
            "text/plain": [
              "(4340, 8)"
            ]
          },
          "metadata": {
            "tags": []
          },
          "execution_count": 6
        }
      ]
    },
    {
      "cell_type": "code",
      "metadata": {
        "colab": {
          "base_uri": "https://localhost:8080/"
        },
        "id": "aVYGKelVkRek",
        "outputId": "d2863407-8384-4496-bae9-169a159b3ead"
      },
      "source": [
        "Car_Data_2.shape"
      ],
      "execution_count": null,
      "outputs": [
        {
          "output_type": "execute_result",
          "data": {
            "text/plain": [
              "(8128, 13)"
            ]
          },
          "metadata": {
            "tags": []
          },
          "execution_count": 7
        }
      ]
    },
    {
      "cell_type": "code",
      "metadata": {
        "colab": {
          "base_uri": "https://localhost:8080/"
        },
        "id": "-erfYYGPkXia",
        "outputId": "36400f78-59cb-47ce-fc42-8cbac8e8f670"
      },
      "source": [
        "Car_Data_3.shape"
      ],
      "execution_count": null,
      "outputs": [
        {
          "output_type": "execute_result",
          "data": {
            "text/plain": [
              "(301, 9)"
            ]
          },
          "metadata": {
            "tags": []
          },
          "execution_count": 8
        }
      ]
    },
    {
      "cell_type": "markdown",
      "metadata": {
        "id": "ORAz1HA0lqSV"
      },
      "source": [
        "### Information about the data"
      ]
    },
    {
      "cell_type": "code",
      "metadata": {
        "colab": {
          "base_uri": "https://localhost:8080/"
        },
        "id": "o9_yLD362WVF",
        "outputId": "54ef7d9a-11bd-49f7-c2df-f9a30caec3ae"
      },
      "source": [
        "Car_Data_1.info()"
      ],
      "execution_count": null,
      "outputs": [
        {
          "output_type": "stream",
          "text": [
            "<class 'pandas.core.frame.DataFrame'>\n",
            "RangeIndex: 4340 entries, 0 to 4339\n",
            "Data columns (total 8 columns):\n",
            " #   Column         Non-Null Count  Dtype \n",
            "---  ------         --------------  ----- \n",
            " 0   name           4340 non-null   object\n",
            " 1   year           4340 non-null   int64 \n",
            " 2   selling_price  4340 non-null   int64 \n",
            " 3   km_driven      4340 non-null   int64 \n",
            " 4   fuel           4340 non-null   object\n",
            " 5   seller_type    4340 non-null   object\n",
            " 6   transmission   4340 non-null   object\n",
            " 7   owner          4340 non-null   object\n",
            "dtypes: int64(3), object(5)\n",
            "memory usage: 271.4+ KB\n"
          ],
          "name": "stdout"
        }
      ]
    },
    {
      "cell_type": "code",
      "metadata": {
        "colab": {
          "base_uri": "https://localhost:8080/"
        },
        "id": "0HboYiOZNOM7",
        "outputId": "272875a4-4a95-442f-fbd1-16d4290662ee"
      },
      "source": [
        "Car_Data_2.info()"
      ],
      "execution_count": null,
      "outputs": [
        {
          "output_type": "stream",
          "text": [
            "<class 'pandas.core.frame.DataFrame'>\n",
            "RangeIndex: 8128 entries, 0 to 8127\n",
            "Data columns (total 13 columns):\n",
            " #   Column         Non-Null Count  Dtype  \n",
            "---  ------         --------------  -----  \n",
            " 0   name           8128 non-null   object \n",
            " 1   year           8128 non-null   int64  \n",
            " 2   selling_price  8128 non-null   int64  \n",
            " 3   km_driven      8128 non-null   int64  \n",
            " 4   fuel           8128 non-null   object \n",
            " 5   seller_type    8128 non-null   object \n",
            " 6   transmission   8128 non-null   object \n",
            " 7   owner          8128 non-null   object \n",
            " 8   mileage        7907 non-null   object \n",
            " 9   engine         7907 non-null   object \n",
            " 10  max_power      7913 non-null   object \n",
            " 11  torque         7906 non-null   object \n",
            " 12  seats          7907 non-null   float64\n",
            "dtypes: float64(1), int64(3), object(9)\n",
            "memory usage: 825.6+ KB\n"
          ],
          "name": "stdout"
        }
      ]
    },
    {
      "cell_type": "code",
      "metadata": {
        "colab": {
          "base_uri": "https://localhost:8080/"
        },
        "id": "Hpxk4rWJLL3i",
        "outputId": "5857fe39-1107-4f4b-a66f-f389f60b9624"
      },
      "source": [
        "Car_Data_3.info()"
      ],
      "execution_count": null,
      "outputs": [
        {
          "output_type": "stream",
          "text": [
            "<class 'pandas.core.frame.DataFrame'>\n",
            "RangeIndex: 301 entries, 0 to 300\n",
            "Data columns (total 9 columns):\n",
            " #   Column         Non-Null Count  Dtype  \n",
            "---  ------         --------------  -----  \n",
            " 0   Car_Name       301 non-null    object \n",
            " 1   Year           301 non-null    int64  \n",
            " 2   Selling_Price  301 non-null    float64\n",
            " 3   Present_Price  301 non-null    float64\n",
            " 4   Kms_Driven     301 non-null    int64  \n",
            " 5   Fuel_Type      301 non-null    object \n",
            " 6   Seller_Type    301 non-null    object \n",
            " 7   Transmission   301 non-null    object \n",
            " 8   Owner          301 non-null    int64  \n",
            "dtypes: float64(2), int64(3), object(4)\n",
            "memory usage: 21.3+ KB\n"
          ],
          "name": "stdout"
        }
      ]
    },
    {
      "cell_type": "markdown",
      "metadata": {
        "id": "UI_0V0XxlqSV"
      },
      "source": [
        "### Description about the dataset"
      ]
    },
    {
      "cell_type": "code",
      "metadata": {
        "colab": {
          "base_uri": "https://localhost:8080/",
          "height": 284
        },
        "id": "f-hZO1f039wk",
        "outputId": "19073d0c-a1e9-459a-a485-b888015f1eb0"
      },
      "source": [
        "#Statistical Description of the data\n",
        "Car_Data_1.describe()"
      ],
      "execution_count": null,
      "outputs": [
        {
          "output_type": "execute_result",
          "data": {
            "text/html": [
              "<div>\n",
              "<style scoped>\n",
              "    .dataframe tbody tr th:only-of-type {\n",
              "        vertical-align: middle;\n",
              "    }\n",
              "\n",
              "    .dataframe tbody tr th {\n",
              "        vertical-align: top;\n",
              "    }\n",
              "\n",
              "    .dataframe thead th {\n",
              "        text-align: right;\n",
              "    }\n",
              "</style>\n",
              "<table border=\"1\" class=\"dataframe\">\n",
              "  <thead>\n",
              "    <tr style=\"text-align: right;\">\n",
              "      <th></th>\n",
              "      <th>year</th>\n",
              "      <th>selling_price</th>\n",
              "      <th>km_driven</th>\n",
              "    </tr>\n",
              "  </thead>\n",
              "  <tbody>\n",
              "    <tr>\n",
              "      <th>count</th>\n",
              "      <td>4340.000000</td>\n",
              "      <td>4.340000e+03</td>\n",
              "      <td>4340.000000</td>\n",
              "    </tr>\n",
              "    <tr>\n",
              "      <th>mean</th>\n",
              "      <td>2013.090783</td>\n",
              "      <td>5.041273e+05</td>\n",
              "      <td>66215.777419</td>\n",
              "    </tr>\n",
              "    <tr>\n",
              "      <th>std</th>\n",
              "      <td>4.215344</td>\n",
              "      <td>5.785487e+05</td>\n",
              "      <td>46644.102194</td>\n",
              "    </tr>\n",
              "    <tr>\n",
              "      <th>min</th>\n",
              "      <td>1992.000000</td>\n",
              "      <td>2.000000e+04</td>\n",
              "      <td>1.000000</td>\n",
              "    </tr>\n",
              "    <tr>\n",
              "      <th>25%</th>\n",
              "      <td>2011.000000</td>\n",
              "      <td>2.087498e+05</td>\n",
              "      <td>35000.000000</td>\n",
              "    </tr>\n",
              "    <tr>\n",
              "      <th>50%</th>\n",
              "      <td>2014.000000</td>\n",
              "      <td>3.500000e+05</td>\n",
              "      <td>60000.000000</td>\n",
              "    </tr>\n",
              "    <tr>\n",
              "      <th>75%</th>\n",
              "      <td>2016.000000</td>\n",
              "      <td>6.000000e+05</td>\n",
              "      <td>90000.000000</td>\n",
              "    </tr>\n",
              "    <tr>\n",
              "      <th>max</th>\n",
              "      <td>2020.000000</td>\n",
              "      <td>8.900000e+06</td>\n",
              "      <td>806599.000000</td>\n",
              "    </tr>\n",
              "  </tbody>\n",
              "</table>\n",
              "</div>"
            ],
            "text/plain": [
              "              year  selling_price      km_driven\n",
              "count  4340.000000   4.340000e+03    4340.000000\n",
              "mean   2013.090783   5.041273e+05   66215.777419\n",
              "std       4.215344   5.785487e+05   46644.102194\n",
              "min    1992.000000   2.000000e+04       1.000000\n",
              "25%    2011.000000   2.087498e+05   35000.000000\n",
              "50%    2014.000000   3.500000e+05   60000.000000\n",
              "75%    2016.000000   6.000000e+05   90000.000000\n",
              "max    2020.000000   8.900000e+06  806599.000000"
            ]
          },
          "metadata": {
            "tags": []
          },
          "execution_count": 12
        }
      ]
    },
    {
      "cell_type": "code",
      "metadata": {
        "colab": {
          "base_uri": "https://localhost:8080/",
          "height": 284
        },
        "id": "SJz-MN8kNVwq",
        "outputId": "0fbad64b-e1d1-44a1-9e9a-6cac2b918e08"
      },
      "source": [
        "#Statistical Description of the data\n",
        "Car_Data_2.describe()"
      ],
      "execution_count": null,
      "outputs": [
        {
          "output_type": "execute_result",
          "data": {
            "text/html": [
              "<div>\n",
              "<style scoped>\n",
              "    .dataframe tbody tr th:only-of-type {\n",
              "        vertical-align: middle;\n",
              "    }\n",
              "\n",
              "    .dataframe tbody tr th {\n",
              "        vertical-align: top;\n",
              "    }\n",
              "\n",
              "    .dataframe thead th {\n",
              "        text-align: right;\n",
              "    }\n",
              "</style>\n",
              "<table border=\"1\" class=\"dataframe\">\n",
              "  <thead>\n",
              "    <tr style=\"text-align: right;\">\n",
              "      <th></th>\n",
              "      <th>year</th>\n",
              "      <th>selling_price</th>\n",
              "      <th>km_driven</th>\n",
              "      <th>seats</th>\n",
              "    </tr>\n",
              "  </thead>\n",
              "  <tbody>\n",
              "    <tr>\n",
              "      <th>count</th>\n",
              "      <td>8128.000000</td>\n",
              "      <td>8.128000e+03</td>\n",
              "      <td>8.128000e+03</td>\n",
              "      <td>7907.000000</td>\n",
              "    </tr>\n",
              "    <tr>\n",
              "      <th>mean</th>\n",
              "      <td>2013.804011</td>\n",
              "      <td>6.382718e+05</td>\n",
              "      <td>6.981951e+04</td>\n",
              "      <td>5.416719</td>\n",
              "    </tr>\n",
              "    <tr>\n",
              "      <th>std</th>\n",
              "      <td>4.044249</td>\n",
              "      <td>8.062534e+05</td>\n",
              "      <td>5.655055e+04</td>\n",
              "      <td>0.959588</td>\n",
              "    </tr>\n",
              "    <tr>\n",
              "      <th>min</th>\n",
              "      <td>1983.000000</td>\n",
              "      <td>2.999900e+04</td>\n",
              "      <td>1.000000e+00</td>\n",
              "      <td>2.000000</td>\n",
              "    </tr>\n",
              "    <tr>\n",
              "      <th>25%</th>\n",
              "      <td>2011.000000</td>\n",
              "      <td>2.549990e+05</td>\n",
              "      <td>3.500000e+04</td>\n",
              "      <td>5.000000</td>\n",
              "    </tr>\n",
              "    <tr>\n",
              "      <th>50%</th>\n",
              "      <td>2015.000000</td>\n",
              "      <td>4.500000e+05</td>\n",
              "      <td>6.000000e+04</td>\n",
              "      <td>5.000000</td>\n",
              "    </tr>\n",
              "    <tr>\n",
              "      <th>75%</th>\n",
              "      <td>2017.000000</td>\n",
              "      <td>6.750000e+05</td>\n",
              "      <td>9.800000e+04</td>\n",
              "      <td>5.000000</td>\n",
              "    </tr>\n",
              "    <tr>\n",
              "      <th>max</th>\n",
              "      <td>2020.000000</td>\n",
              "      <td>1.000000e+07</td>\n",
              "      <td>2.360457e+06</td>\n",
              "      <td>14.000000</td>\n",
              "    </tr>\n",
              "  </tbody>\n",
              "</table>\n",
              "</div>"
            ],
            "text/plain": [
              "              year  selling_price     km_driven        seats\n",
              "count  8128.000000   8.128000e+03  8.128000e+03  7907.000000\n",
              "mean   2013.804011   6.382718e+05  6.981951e+04     5.416719\n",
              "std       4.044249   8.062534e+05  5.655055e+04     0.959588\n",
              "min    1983.000000   2.999900e+04  1.000000e+00     2.000000\n",
              "25%    2011.000000   2.549990e+05  3.500000e+04     5.000000\n",
              "50%    2015.000000   4.500000e+05  6.000000e+04     5.000000\n",
              "75%    2017.000000   6.750000e+05  9.800000e+04     5.000000\n",
              "max    2020.000000   1.000000e+07  2.360457e+06    14.000000"
            ]
          },
          "metadata": {
            "tags": []
          },
          "execution_count": 13
        }
      ]
    },
    {
      "cell_type": "code",
      "metadata": {
        "colab": {
          "base_uri": "https://localhost:8080/",
          "height": 284
        },
        "id": "GAN6VEvnLTBX",
        "outputId": "f361950c-7b1a-4e4d-f66d-1de9b77e67e4"
      },
      "source": [
        "#Statistical Description of the data\n",
        "Car_Data_3.describe()"
      ],
      "execution_count": null,
      "outputs": [
        {
          "output_type": "execute_result",
          "data": {
            "text/html": [
              "<div>\n",
              "<style scoped>\n",
              "    .dataframe tbody tr th:only-of-type {\n",
              "        vertical-align: middle;\n",
              "    }\n",
              "\n",
              "    .dataframe tbody tr th {\n",
              "        vertical-align: top;\n",
              "    }\n",
              "\n",
              "    .dataframe thead th {\n",
              "        text-align: right;\n",
              "    }\n",
              "</style>\n",
              "<table border=\"1\" class=\"dataframe\">\n",
              "  <thead>\n",
              "    <tr style=\"text-align: right;\">\n",
              "      <th></th>\n",
              "      <th>Year</th>\n",
              "      <th>Selling_Price</th>\n",
              "      <th>Present_Price</th>\n",
              "      <th>Kms_Driven</th>\n",
              "      <th>Owner</th>\n",
              "    </tr>\n",
              "  </thead>\n",
              "  <tbody>\n",
              "    <tr>\n",
              "      <th>count</th>\n",
              "      <td>301.000000</td>\n",
              "      <td>301.000000</td>\n",
              "      <td>301.000000</td>\n",
              "      <td>301.000000</td>\n",
              "      <td>301.000000</td>\n",
              "    </tr>\n",
              "    <tr>\n",
              "      <th>mean</th>\n",
              "      <td>2013.627907</td>\n",
              "      <td>4.661296</td>\n",
              "      <td>7.628472</td>\n",
              "      <td>36947.205980</td>\n",
              "      <td>0.043189</td>\n",
              "    </tr>\n",
              "    <tr>\n",
              "      <th>std</th>\n",
              "      <td>2.891554</td>\n",
              "      <td>5.082812</td>\n",
              "      <td>8.644115</td>\n",
              "      <td>38886.883882</td>\n",
              "      <td>0.247915</td>\n",
              "    </tr>\n",
              "    <tr>\n",
              "      <th>min</th>\n",
              "      <td>2003.000000</td>\n",
              "      <td>0.100000</td>\n",
              "      <td>0.320000</td>\n",
              "      <td>500.000000</td>\n",
              "      <td>0.000000</td>\n",
              "    </tr>\n",
              "    <tr>\n",
              "      <th>25%</th>\n",
              "      <td>2012.000000</td>\n",
              "      <td>0.900000</td>\n",
              "      <td>1.200000</td>\n",
              "      <td>15000.000000</td>\n",
              "      <td>0.000000</td>\n",
              "    </tr>\n",
              "    <tr>\n",
              "      <th>50%</th>\n",
              "      <td>2014.000000</td>\n",
              "      <td>3.600000</td>\n",
              "      <td>6.400000</td>\n",
              "      <td>32000.000000</td>\n",
              "      <td>0.000000</td>\n",
              "    </tr>\n",
              "    <tr>\n",
              "      <th>75%</th>\n",
              "      <td>2016.000000</td>\n",
              "      <td>6.000000</td>\n",
              "      <td>9.900000</td>\n",
              "      <td>48767.000000</td>\n",
              "      <td>0.000000</td>\n",
              "    </tr>\n",
              "    <tr>\n",
              "      <th>max</th>\n",
              "      <td>2018.000000</td>\n",
              "      <td>35.000000</td>\n",
              "      <td>92.600000</td>\n",
              "      <td>500000.000000</td>\n",
              "      <td>3.000000</td>\n",
              "    </tr>\n",
              "  </tbody>\n",
              "</table>\n",
              "</div>"
            ],
            "text/plain": [
              "              Year  Selling_Price  Present_Price     Kms_Driven       Owner\n",
              "count   301.000000     301.000000     301.000000     301.000000  301.000000\n",
              "mean   2013.627907       4.661296       7.628472   36947.205980    0.043189\n",
              "std       2.891554       5.082812       8.644115   38886.883882    0.247915\n",
              "min    2003.000000       0.100000       0.320000     500.000000    0.000000\n",
              "25%    2012.000000       0.900000       1.200000   15000.000000    0.000000\n",
              "50%    2014.000000       3.600000       6.400000   32000.000000    0.000000\n",
              "75%    2016.000000       6.000000       9.900000   48767.000000    0.000000\n",
              "max    2018.000000      35.000000      92.600000  500000.000000    3.000000"
            ]
          },
          "metadata": {
            "tags": []
          },
          "execution_count": 14
        }
      ]
    },
    {
      "cell_type": "markdown",
      "metadata": {
        "id": "DYr2EfEkX73_"
      },
      "source": [
        "### Are there any missing values?"
      ]
    },
    {
      "cell_type": "code",
      "metadata": {
        "colab": {
          "base_uri": "https://localhost:8080/"
        },
        "id": "Eq461EmG39cR",
        "outputId": "bae094b8-6c63-4126-f500-f42a8554b991"
      },
      "source": [
        "#Checking for null values\n",
        "print(Car_Data_1.isnull().sum())"
      ],
      "execution_count": null,
      "outputs": [
        {
          "output_type": "stream",
          "text": [
            "name             0\n",
            "year             0\n",
            "selling_price    0\n",
            "km_driven        0\n",
            "fuel             0\n",
            "seller_type      0\n",
            "transmission     0\n",
            "owner            0\n",
            "dtype: int64\n"
          ],
          "name": "stdout"
        }
      ]
    },
    {
      "cell_type": "code",
      "metadata": {
        "colab": {
          "base_uri": "https://localhost:8080/"
        },
        "id": "xf7YGr1JOADk",
        "outputId": "74c39bf3-a80a-4f54-806e-d236baa56ed4"
      },
      "source": [
        "#Checking for null values\n",
        "print(Car_Data_2.isnull().sum())"
      ],
      "execution_count": null,
      "outputs": [
        {
          "output_type": "stream",
          "text": [
            "name               0\n",
            "year               0\n",
            "selling_price      0\n",
            "km_driven          0\n",
            "fuel               0\n",
            "seller_type        0\n",
            "transmission       0\n",
            "owner              0\n",
            "mileage          221\n",
            "engine           221\n",
            "max_power        215\n",
            "torque           222\n",
            "seats            221\n",
            "dtype: int64\n"
          ],
          "name": "stdout"
        }
      ]
    },
    {
      "cell_type": "code",
      "metadata": {
        "colab": {
          "base_uri": "https://localhost:8080/"
        },
        "id": "KaUWd6RJLvLU",
        "outputId": "29218481-cddc-4a91-f6f8-9d3cd2f4069d"
      },
      "source": [
        "#Checking for null values\n",
        "print(Car_Data_3.isnull().sum())"
      ],
      "execution_count": null,
      "outputs": [
        {
          "output_type": "stream",
          "text": [
            "Car_Name         0\n",
            "Year             0\n",
            "Selling_Price    0\n",
            "Present_Price    0\n",
            "Kms_Driven       0\n",
            "Fuel_Type        0\n",
            "Seller_Type      0\n",
            "Transmission     0\n",
            "Owner            0\n",
            "dtype: int64\n"
          ],
          "name": "stdout"
        }
      ]
    },
    {
      "cell_type": "markdown",
      "metadata": {
        "id": "lPWHDTnUAO7N"
      },
      "source": [
        "**Elimination of Car_Data_3**<br>\n",
        "The dataset is a mixture of  both car and bike details and it is very hard to segregate the car and bike details in the dataset. The given details are also incomplete or without proper details, for example the car names and the ownership of the car."
      ]
    },
    {
      "cell_type": "markdown",
      "metadata": {
        "id": "fMrIVWksJv0j"
      },
      "source": [
        "##Dropping the columns"
      ]
    },
    {
      "cell_type": "code",
      "metadata": {
        "id": "Oc8jL9ExJv0k"
      },
      "source": [
        "# drop columns : the correlation of these columns is too low with respect to selling price\n",
        "Car_Data_2=Car_Data_2.drop(['mileage','engine','max_power','seats','torque'], axis = 1)"
      ],
      "execution_count": null,
      "outputs": []
    },
    {
      "cell_type": "markdown",
      "metadata": {
        "id": "80-AntDTJv0n"
      },
      "source": [
        "##Renaming the columns of both the Datasets"
      ]
    },
    {
      "cell_type": "code",
      "metadata": {
        "id": "LtGm6WRTJv0p"
      },
      "source": [
        "# rename the columns\n",
        "Car_Data_1.rename(columns = {'name':'Car_Name', 'year': 'Year_Bought','selling_price':'Selling_Price','km_driven':'Kms_Driven','fuel':'Fuel_Type','seller_type':'Seller_Type','transmission':'Transmission','owner':'Owner'}, inplace = True)\n",
        "Car_Data_2.rename(columns = {'name':'Car_Name', 'year': 'Year_Bought','selling_price':'Selling_Price','km_driven':'Kms_Driven','fuel':'Fuel_Type','seller_type':'Seller_Type','transmission':'Transmission','owner':'Owner'},inplace = True)"
      ],
      "execution_count": null,
      "outputs": []
    },
    {
      "cell_type": "markdown",
      "metadata": {
        "id": "KUHfayRwJv0q"
      },
      "source": [
        "##Combining The Datasets into a single Dataframe"
      ]
    },
    {
      "cell_type": "code",
      "metadata": {
        "id": "MhfV2d99Jv0r"
      },
      "source": [
        "# combining the 2 datasets\n",
        "frames = [Car_Data_1, Car_Data_2]\n",
        "data = pd.concat(frames)"
      ],
      "execution_count": null,
      "outputs": []
    },
    {
      "cell_type": "markdown",
      "metadata": {
        "id": "3LfgNp18lqSW"
      },
      "source": [
        "### Correlation matrix & Matrix Visualisation"
      ]
    },
    {
      "cell_type": "code",
      "metadata": {
        "colab": {
          "base_uri": "https://localhost:8080/",
          "height": 136
        },
        "id": "TXljuZeF8R-u",
        "outputId": "9647d77e-3106-4929-aed7-60ceba2de014"
      },
      "source": [
        "#Correlation of Data\n",
        "data.corr()"
      ],
      "execution_count": null,
      "outputs": [
        {
          "output_type": "execute_result",
          "data": {
            "text/html": [
              "<div>\n",
              "<style scoped>\n",
              "    .dataframe tbody tr th:only-of-type {\n",
              "        vertical-align: middle;\n",
              "    }\n",
              "\n",
              "    .dataframe tbody tr th {\n",
              "        vertical-align: top;\n",
              "    }\n",
              "\n",
              "    .dataframe thead th {\n",
              "        text-align: right;\n",
              "    }\n",
              "</style>\n",
              "<table border=\"1\" class=\"dataframe\">\n",
              "  <thead>\n",
              "    <tr style=\"text-align: right;\">\n",
              "      <th></th>\n",
              "      <th>Year_Bought</th>\n",
              "      <th>Selling_Price</th>\n",
              "      <th>Kms_Driven</th>\n",
              "    </tr>\n",
              "  </thead>\n",
              "  <tbody>\n",
              "    <tr>\n",
              "      <th>Year_Bought</th>\n",
              "      <td>1.000000</td>\n",
              "      <td>0.412442</td>\n",
              "      <td>-0.411786</td>\n",
              "    </tr>\n",
              "    <tr>\n",
              "      <th>Selling_Price</th>\n",
              "      <td>0.412442</td>\n",
              "      <td>1.000000</td>\n",
              "      <td>-0.213450</td>\n",
              "    </tr>\n",
              "    <tr>\n",
              "      <th>Kms_Driven</th>\n",
              "      <td>-0.411786</td>\n",
              "      <td>-0.213450</td>\n",
              "      <td>1.000000</td>\n",
              "    </tr>\n",
              "  </tbody>\n",
              "</table>\n",
              "</div>"
            ],
            "text/plain": [
              "               Year_Bought  Selling_Price  Kms_Driven\n",
              "Year_Bought       1.000000       0.412442   -0.411786\n",
              "Selling_Price     0.412442       1.000000   -0.213450\n",
              "Kms_Driven       -0.411786      -0.213450    1.000000"
            ]
          },
          "metadata": {
            "tags": []
          },
          "execution_count": 21
        }
      ]
    },
    {
      "cell_type": "code",
      "metadata": {
        "colab": {
          "base_uri": "https://localhost:8080/",
          "height": 488
        },
        "id": "gwlIZ_ny2s4N",
        "outputId": "412ab821-ecd4-4cda-b34d-fb3667a28f16"
      },
      "source": [
        "#plotting the heatmap\n",
        "plt.figure(figsize=(18,8))\n",
        "sns.heatmap(data.corr(),annot=True,cmap= 'Spectral')\n",
        "plt.show()"
      ],
      "execution_count": null,
      "outputs": [
        {
          "output_type": "display_data",
          "data": {
            "image/png": "[encoded data removed]",
            "text/plain": [
              "<Figure size 1296x576 with 2 Axes>"
            ]
          },
          "metadata": {
            "tags": [],
            "needs_background": "light"
          }
        }
      ]
    },
    {
      "cell_type": "markdown",
      "metadata": {
        "id": "FNU0Vp4o670E"
      },
      "source": [
        "The above heatmap shows that the highest correlation can be observed between Year_bought and Selling_Price"
      ]
    },
    {
      "cell_type": "code",
      "metadata": {
        "colab": {
          "base_uri": "https://localhost:8080/"
        },
        "id": "1N6c_w9j39iS",
        "outputId": "e45e6bce-7c24-453e-bbe9-e0ce7622c85e"
      },
      "source": [
        "#Gives the number of rows and columns\n",
        "data.shape"
      ],
      "execution_count": null,
      "outputs": [
        {
          "output_type": "execute_result",
          "data": {
            "text/plain": [
              "(12468, 8)"
            ]
          },
          "metadata": {
            "tags": []
          },
          "execution_count": 23
        }
      ]
    },
    {
      "cell_type": "code",
      "metadata": {
        "colab": {
          "base_uri": "https://localhost:8080/",
          "height": 284
        },
        "id": "lH8JrUD6vjh1",
        "outputId": "2cf0a959-f843-4fba-c25d-e44366f7843f"
      },
      "source": [
        "data.describe()"
      ],
      "execution_count": null,
      "outputs": [
        {
          "output_type": "execute_result",
          "data": {
            "text/html": [
              "<div>\n",
              "<style scoped>\n",
              "    .dataframe tbody tr th:only-of-type {\n",
              "        vertical-align: middle;\n",
              "    }\n",
              "\n",
              "    .dataframe tbody tr th {\n",
              "        vertical-align: top;\n",
              "    }\n",
              "\n",
              "    .dataframe thead th {\n",
              "        text-align: right;\n",
              "    }\n",
              "</style>\n",
              "<table border=\"1\" class=\"dataframe\">\n",
              "  <thead>\n",
              "    <tr style=\"text-align: right;\">\n",
              "      <th></th>\n",
              "      <th>Year_Bought</th>\n",
              "      <th>Selling_Price</th>\n",
              "      <th>Kms_Driven</th>\n",
              "    </tr>\n",
              "  </thead>\n",
              "  <tbody>\n",
              "    <tr>\n",
              "      <th>count</th>\n",
              "      <td>12468.000000</td>\n",
              "      <td>1.246800e+04</td>\n",
              "      <td>1.246800e+04</td>\n",
              "    </tr>\n",
              "    <tr>\n",
              "      <th>mean</th>\n",
              "      <td>2013.555743</td>\n",
              "      <td>5.915773e+05</td>\n",
              "      <td>6.856508e+04</td>\n",
              "    </tr>\n",
              "    <tr>\n",
              "      <th>std</th>\n",
              "      <td>4.118485</td>\n",
              "      <td>7.377876e+05</td>\n",
              "      <td>5.333721e+04</td>\n",
              "    </tr>\n",
              "    <tr>\n",
              "      <th>min</th>\n",
              "      <td>1983.000000</td>\n",
              "      <td>2.000000e+04</td>\n",
              "      <td>1.000000e+00</td>\n",
              "    </tr>\n",
              "    <tr>\n",
              "      <th>25%</th>\n",
              "      <td>2011.000000</td>\n",
              "      <td>2.400000e+05</td>\n",
              "      <td>3.500000e+04</td>\n",
              "    </tr>\n",
              "    <tr>\n",
              "      <th>50%</th>\n",
              "      <td>2014.000000</td>\n",
              "      <td>4.200000e+05</td>\n",
              "      <td>6.000000e+04</td>\n",
              "    </tr>\n",
              "    <tr>\n",
              "      <th>75%</th>\n",
              "      <td>2017.000000</td>\n",
              "      <td>6.500000e+05</td>\n",
              "      <td>9.000000e+04</td>\n",
              "    </tr>\n",
              "    <tr>\n",
              "      <th>max</th>\n",
              "      <td>2020.000000</td>\n",
              "      <td>1.000000e+07</td>\n",
              "      <td>2.360457e+06</td>\n",
              "    </tr>\n",
              "  </tbody>\n",
              "</table>\n",
              "</div>"
            ],
            "text/plain": [
              "        Year_Bought  Selling_Price    Kms_Driven\n",
              "count  12468.000000   1.246800e+04  1.246800e+04\n",
              "mean    2013.555743   5.915773e+05  6.856508e+04\n",
              "std        4.118485   7.377876e+05  5.333721e+04\n",
              "min     1983.000000   2.000000e+04  1.000000e+00\n",
              "25%     2011.000000   2.400000e+05  3.500000e+04\n",
              "50%     2014.000000   4.200000e+05  6.000000e+04\n",
              "75%     2017.000000   6.500000e+05  9.000000e+04\n",
              "max     2020.000000   1.000000e+07  2.360457e+06"
            ]
          },
          "metadata": {
            "tags": []
          },
          "execution_count": 24
        }
      ]
    },
    {
      "cell_type": "markdown",
      "metadata": {
        "id": "nAanoWLFisws"
      },
      "source": [
        "##Feature Extraction of the feature Year"
      ]
    },
    {
      "cell_type": "code",
      "metadata": {
        "colab": {
          "base_uri": "https://localhost:8080/",
          "height": 402
        },
        "id": "nkZnC35aQIn5",
        "outputId": "9ac4bacc-6eaa-41e1-ca0f-b24afb782089"
      },
      "source": [
        "data['Years'] = data.apply(lambda row: datetime.datetime.now().year - \n",
        "                                  (row.Year_Bought), axis = 1)\n",
        "data"
      ],
      "execution_count": null,
      "outputs": [
        {
          "output_type": "execute_result",
          "data": {
            "text/html": [
              "<div>\n",
              "<style scoped>\n",
              "    .dataframe tbody tr th:only-of-type {\n",
              "        vertical-align: middle;\n",
              "    }\n",
              "\n",
              "    .dataframe tbody tr th {\n",
              "        vertical-align: top;\n",
              "    }\n",
              "\n",
              "    .dataframe thead th {\n",
              "        text-align: right;\n",
              "    }\n",
              "</style>\n",
              "<table border=\"1\" class=\"dataframe\">\n",
              "  <thead>\n",
              "    <tr style=\"text-align: right;\">\n",
              "      <th></th>\n",
              "      <th>Car_Name</th>\n",
              "      <th>Year_Bought</th>\n",
              "      <th>Selling_Price</th>\n",
              "      <th>Kms_Driven</th>\n",
              "      <th>Fuel_Type</th>\n",
              "      <th>Seller_Type</th>\n",
              "      <th>Transmission</th>\n",
              "      <th>Owner</th>\n",
              "      <th>Years</th>\n",
              "    </tr>\n",
              "  </thead>\n",
              "  <tbody>\n",
              "    <tr>\n",
              "      <th>0</th>\n",
              "      <td>Maruti 800 AC</td>\n",
              "      <td>2007</td>\n",
              "      <td>60000</td>\n",
              "      <td>70000</td>\n",
              "      <td>Petrol</td>\n",
              "      <td>Individual</td>\n",
              "      <td>Manual</td>\n",
              "      <td>First Owner</td>\n",
              "      <td>14</td>\n",
              "    </tr>\n",
              "    <tr>\n",
              "      <th>1</th>\n",
              "      <td>Maruti Wagon R LXI Minor</td>\n",
              "      <td>2007</td>\n",
              "      <td>135000</td>\n",
              "      <td>50000</td>\n",
              "      <td>Petrol</td>\n",
              "      <td>Individual</td>\n",
              "      <td>Manual</td>\n",
              "      <td>First Owner</td>\n",
              "      <td>14</td>\n",
              "    </tr>\n",
              "    <tr>\n",
              "      <th>2</th>\n",
              "      <td>Hyundai Verna 1.6 SX</td>\n",
              "      <td>2012</td>\n",
              "      <td>600000</td>\n",
              "      <td>100000</td>\n",
              "      <td>Diesel</td>\n",
              "      <td>Individual</td>\n",
              "      <td>Manual</td>\n",
              "      <td>First Owner</td>\n",
              "      <td>9</td>\n",
              "    </tr>\n",
              "    <tr>\n",
              "      <th>3</th>\n",
              "      <td>Datsun RediGO T Option</td>\n",
              "      <td>2017</td>\n",
              "      <td>250000</td>\n",
              "      <td>46000</td>\n",
              "      <td>Petrol</td>\n",
              "      <td>Individual</td>\n",
              "      <td>Manual</td>\n",
              "      <td>First Owner</td>\n",
              "      <td>4</td>\n",
              "    </tr>\n",
              "    <tr>\n",
              "      <th>4</th>\n",
              "      <td>Honda Amaze VX i-DTEC</td>\n",
              "      <td>2014</td>\n",
              "      <td>450000</td>\n",
              "      <td>141000</td>\n",
              "      <td>Diesel</td>\n",
              "      <td>Individual</td>\n",
              "      <td>Manual</td>\n",
              "      <td>Second Owner</td>\n",
              "      <td>7</td>\n",
              "    </tr>\n",
              "    <tr>\n",
              "      <th>...</th>\n",
              "      <td>...</td>\n",
              "      <td>...</td>\n",
              "      <td>...</td>\n",
              "      <td>...</td>\n",
              "      <td>...</td>\n",
              "      <td>...</td>\n",
              "      <td>...</td>\n",
              "      <td>...</td>\n",
              "      <td>...</td>\n",
              "    </tr>\n",
              "    <tr>\n",
              "      <th>8123</th>\n",
              "      <td>Hyundai i20 Magna</td>\n",
              "      <td>2013</td>\n",
              "      <td>320000</td>\n",
              "      <td>110000</td>\n",
              "      <td>Petrol</td>\n",
              "      <td>Individual</td>\n",
              "      <td>Manual</td>\n",
              "      <td>First Owner</td>\n",
              "      <td>8</td>\n",
              "    </tr>\n",
              "    <tr>\n",
              "      <th>8124</th>\n",
              "      <td>Hyundai Verna CRDi SX</td>\n",
              "      <td>2007</td>\n",
              "      <td>135000</td>\n",
              "      <td>119000</td>\n",
              "      <td>Diesel</td>\n",
              "      <td>Individual</td>\n",
              "      <td>Manual</td>\n",
              "      <td>Fourth &amp; Above Owner</td>\n",
              "      <td>14</td>\n",
              "    </tr>\n",
              "    <tr>\n",
              "      <th>8125</th>\n",
              "      <td>Maruti Swift Dzire ZDi</td>\n",
              "      <td>2009</td>\n",
              "      <td>382000</td>\n",
              "      <td>120000</td>\n",
              "      <td>Diesel</td>\n",
              "      <td>Individual</td>\n",
              "      <td>Manual</td>\n",
              "      <td>First Owner</td>\n",
              "      <td>12</td>\n",
              "    </tr>\n",
              "    <tr>\n",
              "      <th>8126</th>\n",
              "      <td>Tata Indigo CR4</td>\n",
              "      <td>2013</td>\n",
              "      <td>290000</td>\n",
              "      <td>25000</td>\n",
              "      <td>Diesel</td>\n",
              "      <td>Individual</td>\n",
              "      <td>Manual</td>\n",
              "      <td>First Owner</td>\n",
              "      <td>8</td>\n",
              "    </tr>\n",
              "    <tr>\n",
              "      <th>8127</th>\n",
              "      <td>Tata Indigo CR4</td>\n",
              "      <td>2013</td>\n",
              "      <td>290000</td>\n",
              "      <td>25000</td>\n",
              "      <td>Diesel</td>\n",
              "      <td>Individual</td>\n",
              "      <td>Manual</td>\n",
              "      <td>First Owner</td>\n",
              "      <td>8</td>\n",
              "    </tr>\n",
              "  </tbody>\n",
              "</table>\n",
              "<p>12468 rows × 9 columns</p>\n",
              "</div>"
            ],
            "text/plain": [
              "                      Car_Name  Year_Bought  ...                 Owner  Years\n",
              "0                Maruti 800 AC         2007  ...           First Owner     14\n",
              "1     Maruti Wagon R LXI Minor         2007  ...           First Owner     14\n",
              "2         Hyundai Verna 1.6 SX         2012  ...           First Owner      9\n",
              "3       Datsun RediGO T Option         2017  ...           First Owner      4\n",
              "4        Honda Amaze VX i-DTEC         2014  ...          Second Owner      7\n",
              "...                        ...          ...  ...                   ...    ...\n",
              "8123         Hyundai i20 Magna         2013  ...           First Owner      8\n",
              "8124     Hyundai Verna CRDi SX         2007  ...  Fourth & Above Owner     14\n",
              "8125    Maruti Swift Dzire ZDi         2009  ...           First Owner     12\n",
              "8126           Tata Indigo CR4         2013  ...           First Owner      8\n",
              "8127           Tata Indigo CR4         2013  ...           First Owner      8\n",
              "\n",
              "[12468 rows x 9 columns]"
            ]
          },
          "metadata": {
            "tags": []
          },
          "execution_count": 25
        }
      ]
    },
    {
      "cell_type": "markdown",
      "metadata": {
        "id": "Y5NjiyeL8MWR"
      },
      "source": [
        "Here, we are extracting the number of years ('Years') the car has been with the previous owner with the help of the variable 'year' for the datasets <b>data</b> ."
      ]
    },
    {
      "cell_type": "markdown",
      "metadata": {
        "id": "Xs2MgPVCk6nm"
      },
      "source": [
        "##Visualisation"
      ]
    },
    {
      "cell_type": "code",
      "metadata": {
        "colab": {
          "base_uri": "https://localhost:8080/",
          "height": 601
        },
        "id": "DjXkXewx0BG7",
        "outputId": "52c22b9d-309f-413e-f168-eac698872d2e"
      },
      "source": [
        "#visualizing the top 10 most sold cars\n",
        "top10=data.Car_Name.value_counts().head(10)\n",
        "plt.figure(figsize=(12,8))\n",
        "top10.plot(kind='bar')\n",
        "plt.show()"
      ],
      "execution_count": null,
      "outputs": [
        {
          "output_type": "display_data",
          "data": {
            "image/png": "[encoded data removed]",
            "text/plain": [
              "<Figure size 864x576 with 1 Axes>"
            ]
          },
          "metadata": {
            "tags": [],
            "needs_background": "light"
          }
        }
      ]
    },
    {
      "cell_type": "markdown",
      "metadata": {
        "id": "LsrltutDLUCJ"
      },
      "source": [
        "Above graph shows us the Top ten most sold cars, and <b>Maruti Swift Dzire VDI</b> is the most sold Car throughout"
      ]
    },
    {
      "cell_type": "code",
      "metadata": {
        "colab": {
          "base_uri": "https://localhost:8080/",
          "height": 513
        },
        "id": "CN6MH3540dPY",
        "outputId": "8522a18d-323b-4a06-a968-a1142f6fe5ba"
      },
      "source": [
        "plt.figure(figsize=(12,8))\n",
        "data.groupby('Year_Bought').count()['Car_Name'].plot(kind='bar')\n",
        "plt.show()"
      ],
      "execution_count": null,
      "outputs": [
        {
          "output_type": "display_data",
          "data": {
            "image/png": "[encoded data removed]",
            "text/plain": [
              "<Figure size 864x576 with 1 Axes>"
            ]
          },
          "metadata": {
            "tags": [],
            "needs_background": "light"
          }
        }
      ]
    },
    {
      "cell_type": "markdown",
      "metadata": {
        "id": "IxYwLZ2KLhZF"
      },
      "source": [
        "The above graph gives us an idea of the cars sold every year according to the dataset <b>data</b>, and most of the cars sold were bought in the year <b>2017</b>"
      ]
    },
    {
      "cell_type": "code",
      "metadata": {
        "colab": {
          "base_uri": "https://localhost:8080/",
          "height": 572
        },
        "id": "l_RWKNqE1Uws",
        "outputId": "854e50b6-1066-4c74-b97d-42ddabeefaec"
      },
      "source": [
        "# countplots for fuel,seller_type,transmission and owner\n",
        "\n",
        "plt.figure(figsize=(20,10))\n",
        "plt.subplot(2,2,1)\n",
        "sns.countplot(data.Fuel_Type)\n",
        "plt.subplot(2,2,2)\n",
        "sns.countplot(data.Seller_Type)\n",
        "plt.subplot(2,2,3)\n",
        "sns.countplot(data.Transmission)\n",
        "plt.subplot(2,2,4)\n",
        "sns.countplot(data.Owner)\n",
        "plt.show()"
      ],
      "execution_count": null,
      "outputs": [
        {
          "output_type": "display_data",
          "data": {
            "image/png": "[encoded data removed]",
            "text/plain": [
              "<Figure size 1440x720 with 4 Axes>"
            ]
          },
          "metadata": {
            "tags": [],
            "needs_background": "light"
          }
        }
      ]
    },
    {
      "cell_type": "markdown",
      "metadata": {
        "id": "PNYOiRQ0M2JM"
      },
      "source": [
        "From the above plots we can analyse that<br>\n",
        "1) The number of cars having their 'Fuel_Type' type as Diesel is greater when compared to the other types namely: Petrol, CNG, LPG and Electric. Though there is very slight difference in the number of cars running on Diesel and cars running on Petrol <br> We can also observe that there are negligible  cars which run on electricity.\n",
        "<br>\n",
        "2)We can observe that most of the cars are sold through Individual sellers when compared to Dealers and very less cars are sold through Trustmark Dealer.\n",
        "<br>\n",
        "3)We clearly see that Manual cars are much more in number when compared to Automatic cars.\n",
        "<br>\n",
        "4)This plot shows that most of the cars are sold by the First Owners and negligible number of cars are sold by the Test Drive cars.\n"
      ]
    },
    {
      "cell_type": "code",
      "metadata": {
        "colab": {
          "base_uri": "https://localhost:8080/",
          "height": 589
        },
        "id": "8We61HxW1qRB",
        "outputId": "0f772a3c-5e8f-4c47-9b00-53d7ed3bca74"
      },
      "source": [
        "#plotting categorical variable vs target variable\n",
        "\n",
        "plt.figure(figsize=(20,10))\n",
        "plt.subplot(2,2,1)\n",
        "sns.barplot(data.Owner,data.Selling_Price)\n",
        "plt.subplot(2,2,2)\n",
        "sns.barplot(data.Fuel_Type,data.Selling_Price)\n",
        "plt.subplot(2,2,3)\n",
        "sns.barplot(data.Seller_Type,data.Selling_Price)\n",
        "plt.subplot(2,2,4)\n",
        "sns.barplot(data.Transmission,data.Selling_Price)\n",
        "plt.show()"
      ],
      "execution_count": null,
      "outputs": [
        {
          "output_type": "display_data",
          "data": {
            "image/png": "[encoded data removed]",
            "text/plain": [
              "<Figure size 1440x720 with 4 Axes>"
            ]
          },
          "metadata": {
            "tags": [],
            "needs_background": "light"
          }
        }
      ]
    },
    {
      "cell_type": "markdown",
      "metadata": {
        "id": "lZQt099V-LSh"
      },
      "source": [
        "From the above plots we can analyse that\n",
        "<br>\n",
        "1)Test Drive cars holds a higher value in terms of 'Selling_Price' whereas we can also observe that the 'Selling_Price' reduces with an increase in the number of 'Owner'.\n",
        "<br>\n",
        "2)The cars with 'Fuel_Type' Diesel has a higher 'Selling_Price' compared to the rest and at the same time cars running on LPG costs less.\n",
        "<br>\n",
        "3)The cars sold by the 'Seller_Type' Dealers have a higher range whereas Individual sellers cost low.\n",
        "<br>\n",
        "4)The cars with Automatic 'Transmission' costs more than the cars with Manual Transmission. "
      ]
    },
    {
      "cell_type": "code",
      "metadata": {
        "colab": {
          "base_uri": "https://localhost:8080/",
          "height": 589
        },
        "id": "-f4deAxb13bC",
        "outputId": "a289976e-c910-42fe-cb94-578357d135d4"
      },
      "source": [
        "#kms_driven vs selling price\n",
        "plt.figure(figsize=(20,10))\n",
        "sns.scatterplot(data.Kms_Driven,data.Selling_Price)\n",
        "plt.show()"
      ],
      "execution_count": null,
      "outputs": [
        {
          "output_type": "display_data",
          "data": {
            "image/png": "[encoded data removed]",
            "text/plain": [
              "<Figure size 1440x720 with 1 Axes>"
            ]
          },
          "metadata": {
            "tags": [],
            "needs_background": "light"
          }
        }
      ]
    },
    {
      "cell_type": "markdown",
      "metadata": {
        "id": "mxRA5ZCBALxf"
      },
      "source": [
        "From the above Scatterplot, we can see that as the 'Kms_Driven' increases, the 'Selling_Price' decreases."
      ]
    },
    {
      "cell_type": "markdown",
      "metadata": {
        "id": "90zQg_xPllfv"
      },
      "source": [
        "##Checking out unique values of the Data"
      ]
    },
    {
      "cell_type": "code",
      "metadata": {
        "colab": {
          "base_uri": "https://localhost:8080/"
        },
        "id": "PbPHuHc84ZLY",
        "outputId": "44c6ac4d-201f-4de7-bead-a607d1f93f1b"
      },
      "source": [
        "#To check the number of unique values in each column\n",
        "for col in data.columns:\n",
        "  print(col,\": \",len(data[col].unique()))"
      ],
      "execution_count": null,
      "outputs": [
        {
          "output_type": "stream",
          "text": [
            "Car_Name :  2511\n",
            "Year_Bought :  30\n",
            "Selling_Price :  799\n",
            "Kms_Driven :  1437\n",
            "Fuel_Type :  5\n",
            "Seller_Type :  3\n",
            "Transmission :  2\n",
            "Owner :  5\n",
            "Years :  30\n"
          ],
          "name": "stdout"
        }
      ]
    },
    {
      "cell_type": "markdown",
      "metadata": {
        "id": "Zd9q4wvAmGAc"
      },
      "source": [
        "###One Hot Encoding of the Dataset"
      ]
    },
    {
      "cell_type": "code",
      "metadata": {
        "id": "-pA1A283TJUR"
      },
      "source": [
        "#Seperating the Categorical and non-categorical variables\n",
        "#noncat = data.drop(['Fuel_Type','Seller_Type','Transmission','Owner'],axis=1)\n",
        "#cat = data[['Fuel_Type','Seller_Type','Transmission','Owner']]"
      ],
      "execution_count": null,
      "outputs": []
    },
    {
      "cell_type": "code",
      "metadata": {
        "id": "cqmHsc6byziO"
      },
      "source": [
        "df = data.drop(['Car_Name','Year_Bought'],axis =1)"
      ],
      "execution_count": null,
      "outputs": []
    },
    {
      "cell_type": "code",
      "metadata": {
        "colab": {
          "base_uri": "https://localhost:8080/",
          "height": 455
        },
        "id": "JKZWj8hUULMz",
        "outputId": "49a458fa-c015-4e8f-dfa4-928eab93d425"
      },
      "source": [
        "#Creating dummy variables for the categorical columns\n",
        "df=pd.get_dummies(df, drop_first=True)\n",
        "df"
      ],
      "execution_count": null,
      "outputs": [
        {
          "output_type": "execute_result",
          "data": {
            "text/html": [
              "<div>\n",
              "<style scoped>\n",
              "    .dataframe tbody tr th:only-of-type {\n",
              "        vertical-align: middle;\n",
              "    }\n",
              "\n",
              "    .dataframe tbody tr th {\n",
              "        vertical-align: top;\n",
              "    }\n",
              "\n",
              "    .dataframe thead th {\n",
              "        text-align: right;\n",
              "    }\n",
              "</style>\n",
              "<table border=\"1\" class=\"dataframe\">\n",
              "  <thead>\n",
              "    <tr style=\"text-align: right;\">\n",
              "      <th></th>\n",
              "      <th>Selling_Price</th>\n",
              "      <th>Kms_Driven</th>\n",
              "      <th>Years</th>\n",
              "      <th>Fuel_Type_Diesel</th>\n",
              "      <th>Fuel_Type_Electric</th>\n",
              "      <th>Fuel_Type_LPG</th>\n",
              "      <th>Fuel_Type_Petrol</th>\n",
              "      <th>Seller_Type_Individual</th>\n",
              "      <th>Seller_Type_Trustmark Dealer</th>\n",
              "      <th>Transmission_Manual</th>\n",
              "      <th>Owner_Fourth &amp; Above Owner</th>\n",
              "      <th>Owner_Second Owner</th>\n",
              "      <th>Owner_Test Drive Car</th>\n",
              "      <th>Owner_Third Owner</th>\n",
              "    </tr>\n",
              "  </thead>\n",
              "  <tbody>\n",
              "    <tr>\n",
              "      <th>0</th>\n",
              "      <td>60000</td>\n",
              "      <td>70000</td>\n",
              "      <td>14</td>\n",
              "      <td>0</td>\n",
              "      <td>0</td>\n",
              "      <td>0</td>\n",
              "      <td>1</td>\n",
              "      <td>1</td>\n",
              "      <td>0</td>\n",
              "      <td>1</td>\n",
              "      <td>0</td>\n",
              "      <td>0</td>\n",
              "      <td>0</td>\n",
              "      <td>0</td>\n",
              "    </tr>\n",
              "    <tr>\n",
              "      <th>1</th>\n",
              "      <td>135000</td>\n",
              "      <td>50000</td>\n",
              "      <td>14</td>\n",
              "      <td>0</td>\n",
              "      <td>0</td>\n",
              "      <td>0</td>\n",
              "      <td>1</td>\n",
              "      <td>1</td>\n",
              "      <td>0</td>\n",
              "      <td>1</td>\n",
              "      <td>0</td>\n",
              "      <td>0</td>\n",
              "      <td>0</td>\n",
              "      <td>0</td>\n",
              "    </tr>\n",
              "    <tr>\n",
              "      <th>2</th>\n",
              "      <td>600000</td>\n",
              "      <td>100000</td>\n",
              "      <td>9</td>\n",
              "      <td>1</td>\n",
              "      <td>0</td>\n",
              "      <td>0</td>\n",
              "      <td>0</td>\n",
              "      <td>1</td>\n",
              "      <td>0</td>\n",
              "      <td>1</td>\n",
              "      <td>0</td>\n",
              "      <td>0</td>\n",
              "      <td>0</td>\n",
              "      <td>0</td>\n",
              "    </tr>\n",
              "    <tr>\n",
              "      <th>3</th>\n",
              "      <td>250000</td>\n",
              "      <td>46000</td>\n",
              "      <td>4</td>\n",
              "      <td>0</td>\n",
              "      <td>0</td>\n",
              "      <td>0</td>\n",
              "      <td>1</td>\n",
              "      <td>1</td>\n",
              "      <td>0</td>\n",
              "      <td>1</td>\n",
              "      <td>0</td>\n",
              "      <td>0</td>\n",
              "      <td>0</td>\n",
              "      <td>0</td>\n",
              "    </tr>\n",
              "    <tr>\n",
              "      <th>4</th>\n",
              "      <td>450000</td>\n",
              "      <td>141000</td>\n",
              "      <td>7</td>\n",
              "      <td>1</td>\n",
              "      <td>0</td>\n",
              "      <td>0</td>\n",
              "      <td>0</td>\n",
              "      <td>1</td>\n",
              "      <td>0</td>\n",
              "      <td>1</td>\n",
              "      <td>0</td>\n",
              "      <td>1</td>\n",
              "      <td>0</td>\n",
              "      <td>0</td>\n",
              "    </tr>\n",
              "    <tr>\n",
              "      <th>...</th>\n",
              "      <td>...</td>\n",
              "      <td>...</td>\n",
              "      <td>...</td>\n",
              "      <td>...</td>\n",
              "      <td>...</td>\n",
              "      <td>...</td>\n",
              "      <td>...</td>\n",
              "      <td>...</td>\n",
              "      <td>...</td>\n",
              "      <td>...</td>\n",
              "      <td>...</td>\n",
              "      <td>...</td>\n",
              "      <td>...</td>\n",
              "      <td>...</td>\n",
              "    </tr>\n",
              "    <tr>\n",
              "      <th>8123</th>\n",
              "      <td>320000</td>\n",
              "      <td>110000</td>\n",
              "      <td>8</td>\n",
              "      <td>0</td>\n",
              "      <td>0</td>\n",
              "      <td>0</td>\n",
              "      <td>1</td>\n",
              "      <td>1</td>\n",
              "      <td>0</td>\n",
              "      <td>1</td>\n",
              "      <td>0</td>\n",
              "      <td>0</td>\n",
              "      <td>0</td>\n",
              "      <td>0</td>\n",
              "    </tr>\n",
              "    <tr>\n",
              "      <th>8124</th>\n",
              "      <td>135000</td>\n",
              "      <td>119000</td>\n",
              "      <td>14</td>\n",
              "      <td>1</td>\n",
              "      <td>0</td>\n",
              "      <td>0</td>\n",
              "      <td>0</td>\n",
              "      <td>1</td>\n",
              "      <td>0</td>\n",
              "      <td>1</td>\n",
              "      <td>1</td>\n",
              "      <td>0</td>\n",
              "      <td>0</td>\n",
              "      <td>0</td>\n",
              "    </tr>\n",
              "    <tr>\n",
              "      <th>8125</th>\n",
              "      <td>382000</td>\n",
              "      <td>120000</td>\n",
              "      <td>12</td>\n",
              "      <td>1</td>\n",
              "      <td>0</td>\n",
              "      <td>0</td>\n",
              "      <td>0</td>\n",
              "      <td>1</td>\n",
              "      <td>0</td>\n",
              "      <td>1</td>\n",
              "      <td>0</td>\n",
              "      <td>0</td>\n",
              "      <td>0</td>\n",
              "      <td>0</td>\n",
              "    </tr>\n",
              "    <tr>\n",
              "      <th>8126</th>\n",
              "      <td>290000</td>\n",
              "      <td>25000</td>\n",
              "      <td>8</td>\n",
              "      <td>1</td>\n",
              "      <td>0</td>\n",
              "      <td>0</td>\n",
              "      <td>0</td>\n",
              "      <td>1</td>\n",
              "      <td>0</td>\n",
              "      <td>1</td>\n",
              "      <td>0</td>\n",
              "      <td>0</td>\n",
              "      <td>0</td>\n",
              "      <td>0</td>\n",
              "    </tr>\n",
              "    <tr>\n",
              "      <th>8127</th>\n",
              "      <td>290000</td>\n",
              "      <td>25000</td>\n",
              "      <td>8</td>\n",
              "      <td>1</td>\n",
              "      <td>0</td>\n",
              "      <td>0</td>\n",
              "      <td>0</td>\n",
              "      <td>1</td>\n",
              "      <td>0</td>\n",
              "      <td>1</td>\n",
              "      <td>0</td>\n",
              "      <td>0</td>\n",
              "      <td>0</td>\n",
              "      <td>0</td>\n",
              "    </tr>\n",
              "  </tbody>\n",
              "</table>\n",
              "<p>12468 rows × 14 columns</p>\n",
              "</div>"
            ],
            "text/plain": [
              "      Selling_Price  Kms_Driven  ...  Owner_Test Drive Car  Owner_Third Owner\n",
              "0             60000       70000  ...                     0                  0\n",
              "1            135000       50000  ...                     0                  0\n",
              "2            600000      100000  ...                     0                  0\n",
              "3            250000       46000  ...                     0                  0\n",
              "4            450000      141000  ...                     0                  0\n",
              "...             ...         ...  ...                   ...                ...\n",
              "8123         320000      110000  ...                     0                  0\n",
              "8124         135000      119000  ...                     0                  0\n",
              "8125         382000      120000  ...                     0                  0\n",
              "8126         290000       25000  ...                     0                  0\n",
              "8127         290000       25000  ...                     0                  0\n",
              "\n",
              "[12468 rows x 14 columns]"
            ]
          },
          "metadata": {
            "tags": []
          },
          "execution_count": 34
        }
      ]
    },
    {
      "cell_type": "markdown",
      "metadata": {
        "id": "qQHo0oQ3mspD"
      },
      "source": [
        "###Statistical Description of the combined Data"
      ]
    },
    {
      "cell_type": "code",
      "metadata": {
        "colab": {
          "base_uri": "https://localhost:8080/",
          "height": 338
        },
        "id": "KicYjRburXsb",
        "outputId": "e49f11f8-0ef6-484d-d381-5acff22036ff"
      },
      "source": [
        "df.describe()"
      ],
      "execution_count": null,
      "outputs": [
        {
          "output_type": "execute_result",
          "data": {
            "text/html": [
              "<div>\n",
              "<style scoped>\n",
              "    .dataframe tbody tr th:only-of-type {\n",
              "        vertical-align: middle;\n",
              "    }\n",
              "\n",
              "    .dataframe tbody tr th {\n",
              "        vertical-align: top;\n",
              "    }\n",
              "\n",
              "    .dataframe thead th {\n",
              "        text-align: right;\n",
              "    }\n",
              "</style>\n",
              "<table border=\"1\" class=\"dataframe\">\n",
              "  <thead>\n",
              "    <tr style=\"text-align: right;\">\n",
              "      <th></th>\n",
              "      <th>Selling_Price</th>\n",
              "      <th>Kms_Driven</th>\n",
              "      <th>Years</th>\n",
              "      <th>Fuel_Type_Diesel</th>\n",
              "      <th>Fuel_Type_Electric</th>\n",
              "      <th>Fuel_Type_LPG</th>\n",
              "      <th>Fuel_Type_Petrol</th>\n",
              "      <th>Seller_Type_Individual</th>\n",
              "      <th>Seller_Type_Trustmark Dealer</th>\n",
              "      <th>Transmission_Manual</th>\n",
              "      <th>Owner_Fourth &amp; Above Owner</th>\n",
              "      <th>Owner_Second Owner</th>\n",
              "      <th>Owner_Test Drive Car</th>\n",
              "      <th>Owner_Third Owner</th>\n",
              "    </tr>\n",
              "  </thead>\n",
              "  <tbody>\n",
              "    <tr>\n",
              "      <th>count</th>\n",
              "      <td>1.246800e+04</td>\n",
              "      <td>1.246800e+04</td>\n",
              "      <td>12468.000000</td>\n",
              "      <td>12468.000000</td>\n",
              "      <td>12468.000000</td>\n",
              "      <td>12468.000000</td>\n",
              "      <td>12468.000000</td>\n",
              "      <td>12468.000000</td>\n",
              "      <td>12468.000000</td>\n",
              "      <td>12468.000000</td>\n",
              "      <td>12468.000000</td>\n",
              "      <td>12468.000000</td>\n",
              "      <td>12468.000000</td>\n",
              "      <td>12468.000000</td>\n",
              "    </tr>\n",
              "    <tr>\n",
              "      <th>mean</th>\n",
              "      <td>5.915773e+05</td>\n",
              "      <td>6.856508e+04</td>\n",
              "      <td>7.444257</td>\n",
              "      <td>0.525746</td>\n",
              "      <td>0.000080</td>\n",
              "      <td>0.004893</td>\n",
              "      <td>0.461501</td>\n",
              "      <td>0.802855</td>\n",
              "      <td>0.027109</td>\n",
              "      <td>0.879852</td>\n",
              "      <td>0.020452</td>\n",
              "      <td>0.257539</td>\n",
              "      <td>0.001765</td>\n",
              "      <td>0.068896</td>\n",
              "    </tr>\n",
              "    <tr>\n",
              "      <th>std</th>\n",
              "      <td>7.377876e+05</td>\n",
              "      <td>5.333721e+04</td>\n",
              "      <td>4.118485</td>\n",
              "      <td>0.499357</td>\n",
              "      <td>0.008956</td>\n",
              "      <td>0.069778</td>\n",
              "      <td>0.498536</td>\n",
              "      <td>0.397858</td>\n",
              "      <td>0.162409</td>\n",
              "      <td>0.325147</td>\n",
              "      <td>0.141547</td>\n",
              "      <td>0.437296</td>\n",
              "      <td>0.041971</td>\n",
              "      <td>0.253288</td>\n",
              "    </tr>\n",
              "    <tr>\n",
              "      <th>min</th>\n",
              "      <td>2.000000e+04</td>\n",
              "      <td>1.000000e+00</td>\n",
              "      <td>1.000000</td>\n",
              "      <td>0.000000</td>\n",
              "      <td>0.000000</td>\n",
              "      <td>0.000000</td>\n",
              "      <td>0.000000</td>\n",
              "      <td>0.000000</td>\n",
              "      <td>0.000000</td>\n",
              "      <td>0.000000</td>\n",
              "      <td>0.000000</td>\n",
              "      <td>0.000000</td>\n",
              "      <td>0.000000</td>\n",
              "      <td>0.000000</td>\n",
              "    </tr>\n",
              "    <tr>\n",
              "      <th>25%</th>\n",
              "      <td>2.400000e+05</td>\n",
              "      <td>3.500000e+04</td>\n",
              "      <td>4.000000</td>\n",
              "      <td>0.000000</td>\n",
              "      <td>0.000000</td>\n",
              "      <td>0.000000</td>\n",
              "      <td>0.000000</td>\n",
              "      <td>1.000000</td>\n",
              "      <td>0.000000</td>\n",
              "      <td>1.000000</td>\n",
              "      <td>0.000000</td>\n",
              "      <td>0.000000</td>\n",
              "      <td>0.000000</td>\n",
              "      <td>0.000000</td>\n",
              "    </tr>\n",
              "    <tr>\n",
              "      <th>50%</th>\n",
              "      <td>4.200000e+05</td>\n",
              "      <td>6.000000e+04</td>\n",
              "      <td>7.000000</td>\n",
              "      <td>1.000000</td>\n",
              "      <td>0.000000</td>\n",
              "      <td>0.000000</td>\n",
              "      <td>0.000000</td>\n",
              "      <td>1.000000</td>\n",
              "      <td>0.000000</td>\n",
              "      <td>1.000000</td>\n",
              "      <td>0.000000</td>\n",
              "      <td>0.000000</td>\n",
              "      <td>0.000000</td>\n",
              "      <td>0.000000</td>\n",
              "    </tr>\n",
              "    <tr>\n",
              "      <th>75%</th>\n",
              "      <td>6.500000e+05</td>\n",
              "      <td>9.000000e+04</td>\n",
              "      <td>10.000000</td>\n",
              "      <td>1.000000</td>\n",
              "      <td>0.000000</td>\n",
              "      <td>0.000000</td>\n",
              "      <td>1.000000</td>\n",
              "      <td>1.000000</td>\n",
              "      <td>0.000000</td>\n",
              "      <td>1.000000</td>\n",
              "      <td>0.000000</td>\n",
              "      <td>1.000000</td>\n",
              "      <td>0.000000</td>\n",
              "      <td>0.000000</td>\n",
              "    </tr>\n",
              "    <tr>\n",
              "      <th>max</th>\n",
              "      <td>1.000000e+07</td>\n",
              "      <td>2.360457e+06</td>\n",
              "      <td>38.000000</td>\n",
              "      <td>1.000000</td>\n",
              "      <td>1.000000</td>\n",
              "      <td>1.000000</td>\n",
              "      <td>1.000000</td>\n",
              "      <td>1.000000</td>\n",
              "      <td>1.000000</td>\n",
              "      <td>1.000000</td>\n",
              "      <td>1.000000</td>\n",
              "      <td>1.000000</td>\n",
              "      <td>1.000000</td>\n",
              "      <td>1.000000</td>\n",
              "    </tr>\n",
              "  </tbody>\n",
              "</table>\n",
              "</div>"
            ],
            "text/plain": [
              "       Selling_Price    Kms_Driven  ...  Owner_Test Drive Car  Owner_Third Owner\n",
              "count   1.246800e+04  1.246800e+04  ...          12468.000000       12468.000000\n",
              "mean    5.915773e+05  6.856508e+04  ...              0.001765           0.068896\n",
              "std     7.377876e+05  5.333721e+04  ...              0.041971           0.253288\n",
              "min     2.000000e+04  1.000000e+00  ...              0.000000           0.000000\n",
              "25%     2.400000e+05  3.500000e+04  ...              0.000000           0.000000\n",
              "50%     4.200000e+05  6.000000e+04  ...              0.000000           0.000000\n",
              "75%     6.500000e+05  9.000000e+04  ...              0.000000           0.000000\n",
              "max     1.000000e+07  2.360457e+06  ...              1.000000           1.000000\n",
              "\n",
              "[8 rows x 14 columns]"
            ]
          },
          "metadata": {
            "tags": []
          },
          "execution_count": 35
        }
      ]
    },
    {
      "cell_type": "markdown",
      "metadata": {
        "id": "AnIEaJYGz4ai"
      },
      "source": [
        "###Correlation Matrix and Visualisation  of the combined data"
      ]
    },
    {
      "cell_type": "code",
      "metadata": {
        "colab": {
          "base_uri": "https://localhost:8080/",
          "height": 549
        },
        "id": "FJ5DPTD0zvzJ",
        "outputId": "dabcfa73-df81-4278-f66e-d5ed923e3130"
      },
      "source": [
        "df.corr()"
      ],
      "execution_count": null,
      "outputs": [
        {
          "output_type": "execute_result",
          "data": {
            "text/html": [
              "<div>\n",
              "<style scoped>\n",
              "    .dataframe tbody tr th:only-of-type {\n",
              "        vertical-align: middle;\n",
              "    }\n",
              "\n",
              "    .dataframe tbody tr th {\n",
              "        vertical-align: top;\n",
              "    }\n",
              "\n",
              "    .dataframe thead th {\n",
              "        text-align: right;\n",
              "    }\n",
              "</style>\n",
              "<table border=\"1\" class=\"dataframe\">\n",
              "  <thead>\n",
              "    <tr style=\"text-align: right;\">\n",
              "      <th></th>\n",
              "      <th>Selling_Price</th>\n",
              "      <th>Kms_Driven</th>\n",
              "      <th>Years</th>\n",
              "      <th>Fuel_Type_Diesel</th>\n",
              "      <th>Fuel_Type_Electric</th>\n",
              "      <th>Fuel_Type_LPG</th>\n",
              "      <th>Fuel_Type_Petrol</th>\n",
              "      <th>Seller_Type_Individual</th>\n",
              "      <th>Seller_Type_Trustmark Dealer</th>\n",
              "      <th>Transmission_Manual</th>\n",
              "      <th>Owner_Fourth &amp; Above Owner</th>\n",
              "      <th>Owner_Second Owner</th>\n",
              "      <th>Owner_Test Drive Car</th>\n",
              "      <th>Owner_Third Owner</th>\n",
              "    </tr>\n",
              "  </thead>\n",
              "  <tbody>\n",
              "    <tr>\n",
              "      <th>Selling_Price</th>\n",
              "      <td>1.000000</td>\n",
              "      <td>-0.213450</td>\n",
              "      <td>-0.412442</td>\n",
              "      <td>0.227896</td>\n",
              "      <td>-0.003418</td>\n",
              "      <td>-0.038345</td>\n",
              "      <td>-0.216489</td>\n",
              "      <td>-0.320079</td>\n",
              "      <td>0.055298</td>\n",
              "      <td>-0.571451</td>\n",
              "      <td>-0.074868</td>\n",
              "      <td>-0.172048</td>\n",
              "      <td>0.065348</td>\n",
              "      <td>-0.115299</td>\n",
              "    </tr>\n",
              "    <tr>\n",
              "      <th>Kms_Driven</th>\n",
              "      <td>-0.213450</td>\n",
              "      <td>1.000000</td>\n",
              "      <td>0.411786</td>\n",
              "      <td>0.272092</td>\n",
              "      <td>-0.001102</td>\n",
              "      <td>0.027323</td>\n",
              "      <td>-0.276137</td>\n",
              "      <td>0.196836</td>\n",
              "      <td>-0.085219</td>\n",
              "      <td>0.176497</td>\n",
              "      <td>0.095730</td>\n",
              "      <td>0.204444</td>\n",
              "      <td>-0.048897</td>\n",
              "      <td>0.159858</td>\n",
              "    </tr>\n",
              "    <tr>\n",
              "      <th>Years</th>\n",
              "      <td>-0.412442</td>\n",
              "      <td>0.411786</td>\n",
              "      <td>1.000000</td>\n",
              "      <td>-0.079959</td>\n",
              "      <td>0.016431</td>\n",
              "      <td>0.063610</td>\n",
              "      <td>0.072888</td>\n",
              "      <td>0.207116</td>\n",
              "      <td>-0.102311</td>\n",
              "      <td>0.212672</td>\n",
              "      <td>0.198233</td>\n",
              "      <td>0.303010</td>\n",
              "      <td>-0.059756</td>\n",
              "      <td>0.266617</td>\n",
              "    </tr>\n",
              "    <tr>\n",
              "      <th>Fuel_Type_Diesel</th>\n",
              "      <td>0.227896</td>\n",
              "      <td>0.272092</td>\n",
              "      <td>-0.079959</td>\n",
              "      <td>1.000000</td>\n",
              "      <td>-0.009430</td>\n",
              "      <td>-0.073827</td>\n",
              "      <td>-0.974713</td>\n",
              "      <td>-0.009172</td>\n",
              "      <td>-0.094654</td>\n",
              "      <td>-0.000214</td>\n",
              "      <td>-0.013692</td>\n",
              "      <td>0.031895</td>\n",
              "      <td>-0.013649</td>\n",
              "      <td>-0.006098</td>\n",
              "    </tr>\n",
              "    <tr>\n",
              "      <th>Fuel_Type_Electric</th>\n",
              "      <td>-0.003418</td>\n",
              "      <td>-0.001102</td>\n",
              "      <td>0.016431</td>\n",
              "      <td>-0.009430</td>\n",
              "      <td>1.000000</td>\n",
              "      <td>-0.000628</td>\n",
              "      <td>-0.008291</td>\n",
              "      <td>-0.018074</td>\n",
              "      <td>-0.001495</td>\n",
              "      <td>-0.024236</td>\n",
              "      <td>-0.001294</td>\n",
              "      <td>0.015207</td>\n",
              "      <td>-0.000377</td>\n",
              "      <td>-0.002436</td>\n",
              "    </tr>\n",
              "    <tr>\n",
              "      <th>Fuel_Type_LPG</th>\n",
              "      <td>-0.038345</td>\n",
              "      <td>0.027323</td>\n",
              "      <td>0.063610</td>\n",
              "      <td>-0.073827</td>\n",
              "      <td>-0.000628</td>\n",
              "      <td>1.000000</td>\n",
              "      <td>-0.064912</td>\n",
              "      <td>0.026078</td>\n",
              "      <td>-0.011705</td>\n",
              "      <td>0.025911</td>\n",
              "      <td>0.014232</td>\n",
              "      <td>0.021792</td>\n",
              "      <td>-0.002948</td>\n",
              "      <td>0.012695</td>\n",
              "    </tr>\n",
              "    <tr>\n",
              "      <th>Fuel_Type_Petrol</th>\n",
              "      <td>-0.216489</td>\n",
              "      <td>-0.276137</td>\n",
              "      <td>0.072888</td>\n",
              "      <td>-0.974713</td>\n",
              "      <td>-0.008291</td>\n",
              "      <td>-0.064912</td>\n",
              "      <td>1.000000</td>\n",
              "      <td>0.001767</td>\n",
              "      <td>0.099080</td>\n",
              "      <td>-0.008744</td>\n",
              "      <td>0.008317</td>\n",
              "      <td>-0.037853</td>\n",
              "      <td>0.014747</td>\n",
              "      <td>0.005444</td>\n",
              "    </tr>\n",
              "    <tr>\n",
              "      <th>Seller_Type_Individual</th>\n",
              "      <td>-0.320079</td>\n",
              "      <td>0.196836</td>\n",
              "      <td>0.207116</td>\n",
              "      <td>-0.009172</td>\n",
              "      <td>-0.018074</td>\n",
              "      <td>0.026078</td>\n",
              "      <td>0.001767</td>\n",
              "      <td>1.000000</td>\n",
              "      <td>-0.336864</td>\n",
              "      <td>0.309207</td>\n",
              "      <td>0.068755</td>\n",
              "      <td>0.172903</td>\n",
              "      <td>-0.084844</td>\n",
              "      <td>0.124447</td>\n",
              "    </tr>\n",
              "    <tr>\n",
              "      <th>Seller_Type_Trustmark Dealer</th>\n",
              "      <td>0.055298</td>\n",
              "      <td>-0.085219</td>\n",
              "      <td>-0.102311</td>\n",
              "      <td>-0.094654</td>\n",
              "      <td>-0.001495</td>\n",
              "      <td>-0.011705</td>\n",
              "      <td>0.099080</td>\n",
              "      <td>-0.336864</td>\n",
              "      <td>1.000000</td>\n",
              "      <td>-0.117553</td>\n",
              "      <td>-0.024121</td>\n",
              "      <td>-0.056525</td>\n",
              "      <td>-0.007018</td>\n",
              "      <td>-0.045407</td>\n",
              "    </tr>\n",
              "    <tr>\n",
              "      <th>Transmission_Manual</th>\n",
              "      <td>-0.571451</td>\n",
              "      <td>0.176497</td>\n",
              "      <td>0.212672</td>\n",
              "      <td>-0.000214</td>\n",
              "      <td>-0.024236</td>\n",
              "      <td>0.025911</td>\n",
              "      <td>-0.008744</td>\n",
              "      <td>0.309207</td>\n",
              "      <td>-0.117553</td>\n",
              "      <td>1.000000</td>\n",
              "      <td>0.039454</td>\n",
              "      <td>0.102556</td>\n",
              "      <td>-0.013852</td>\n",
              "      <td>0.058639</td>\n",
              "    </tr>\n",
              "    <tr>\n",
              "      <th>Owner_Fourth &amp; Above Owner</th>\n",
              "      <td>-0.074868</td>\n",
              "      <td>0.095730</td>\n",
              "      <td>0.198233</td>\n",
              "      <td>-0.013692</td>\n",
              "      <td>-0.001294</td>\n",
              "      <td>0.014232</td>\n",
              "      <td>0.008317</td>\n",
              "      <td>0.068755</td>\n",
              "      <td>-0.024121</td>\n",
              "      <td>0.039454</td>\n",
              "      <td>1.000000</td>\n",
              "      <td>-0.085103</td>\n",
              "      <td>-0.006075</td>\n",
              "      <td>-0.039306</td>\n",
              "    </tr>\n",
              "    <tr>\n",
              "      <th>Owner_Second Owner</th>\n",
              "      <td>-0.172048</td>\n",
              "      <td>0.204444</td>\n",
              "      <td>0.303010</td>\n",
              "      <td>0.031895</td>\n",
              "      <td>0.015207</td>\n",
              "      <td>0.021792</td>\n",
              "      <td>-0.037853</td>\n",
              "      <td>0.172903</td>\n",
              "      <td>-0.056525</td>\n",
              "      <td>0.102556</td>\n",
              "      <td>-0.085103</td>\n",
              "      <td>1.000000</td>\n",
              "      <td>-0.024762</td>\n",
              "      <td>-0.160208</td>\n",
              "    </tr>\n",
              "    <tr>\n",
              "      <th>Owner_Test Drive Car</th>\n",
              "      <td>0.065348</td>\n",
              "      <td>-0.048897</td>\n",
              "      <td>-0.059756</td>\n",
              "      <td>-0.013649</td>\n",
              "      <td>-0.000377</td>\n",
              "      <td>-0.002948</td>\n",
              "      <td>0.014747</td>\n",
              "      <td>-0.084844</td>\n",
              "      <td>-0.007018</td>\n",
              "      <td>-0.013852</td>\n",
              "      <td>-0.006075</td>\n",
              "      <td>-0.024762</td>\n",
              "      <td>1.000000</td>\n",
              "      <td>-0.011437</td>\n",
              "    </tr>\n",
              "    <tr>\n",
              "      <th>Owner_Third Owner</th>\n",
              "      <td>-0.115299</td>\n",
              "      <td>0.159858</td>\n",
              "      <td>0.266617</td>\n",
              "      <td>-0.006098</td>\n",
              "      <td>-0.002436</td>\n",
              "      <td>0.012695</td>\n",
              "      <td>0.005444</td>\n",
              "      <td>0.124447</td>\n",
              "      <td>-0.045407</td>\n",
              "      <td>0.058639</td>\n",
              "      <td>-0.039306</td>\n",
              "      <td>-0.160208</td>\n",
              "      <td>-0.011437</td>\n",
              "      <td>1.000000</td>\n",
              "    </tr>\n",
              "  </tbody>\n",
              "</table>\n",
              "</div>"
            ],
            "text/plain": [
              "                              Selling_Price  ...  Owner_Third Owner\n",
              "Selling_Price                      1.000000  ...          -0.115299\n",
              "Kms_Driven                        -0.213450  ...           0.159858\n",
              "Years                             -0.412442  ...           0.266617\n",
              "Fuel_Type_Diesel                   0.227896  ...          -0.006098\n",
              "Fuel_Type_Electric                -0.003418  ...          -0.002436\n",
              "Fuel_Type_LPG                     -0.038345  ...           0.012695\n",
              "Fuel_Type_Petrol                  -0.216489  ...           0.005444\n",
              "Seller_Type_Individual            -0.320079  ...           0.124447\n",
              "Seller_Type_Trustmark Dealer       0.055298  ...          -0.045407\n",
              "Transmission_Manual               -0.571451  ...           0.058639\n",
              "Owner_Fourth & Above Owner        -0.074868  ...          -0.039306\n",
              "Owner_Second Owner                -0.172048  ...          -0.160208\n",
              "Owner_Test Drive Car               0.065348  ...          -0.011437\n",
              "Owner_Third Owner                 -0.115299  ...           1.000000\n",
              "\n",
              "[14 rows x 14 columns]"
            ]
          },
          "metadata": {
            "tags": []
          },
          "execution_count": 36
        }
      ]
    },
    {
      "cell_type": "code",
      "metadata": {
        "colab": {
          "base_uri": "https://localhost:8080/",
          "height": 627
        },
        "id": "XNfA1GzfzzCR",
        "outputId": "4d388226-09f3-4f1c-a2b9-23dd439b3d36"
      },
      "source": [
        "#plotting the heatmap\n",
        "plt.figure(figsize=(18,8))\n",
        "sns.heatmap(df.corr(),annot=True,cmap= 'Spectral')\n",
        "plt.show()"
      ],
      "execution_count": null,
      "outputs": [
        {
          "output_type": "display_data",
          "data": {
            "image/png": "[encoded data removed]",
            "text/plain": [
              "<Figure size 1296x576 with 2 Axes>"
            ]
          },
          "metadata": {
            "tags": [],
            "needs_background": "light"
          }
        }
      ]
    },
    {
      "cell_type": "markdown",
      "metadata": {
        "id": "7F4Y2FumlqSb"
      },
      "source": [
        "## 5. Modelling\n",
        " "
      ]
    },
    {
      "cell_type": "code",
      "metadata": {
        "id": "_5XblVHHGK66"
      },
      "source": [
        "#Assigning the X and Y with necessary variables \n",
        "X = df.drop(['Selling_Price'],axis=1)\n",
        "y = df['Selling_Price']"
      ],
      "execution_count": null,
      "outputs": []
    },
    {
      "cell_type": "markdown",
      "metadata": {
        "id": "f6cQ68s6lqSb"
      },
      "source": [
        "### Train-Test Split of the data"
      ]
    },
    {
      "cell_type": "code",
      "metadata": {
        "id": "Yr7xPKSUGK4H"
      },
      "source": [
        "#splitting the data into training and testing sets\n",
        "X_train,X_test,y_train,y_test = train_test_split(X,y,test_size=0.3,random_state=0)"
      ],
      "execution_count": null,
      "outputs": []
    },
    {
      "cell_type": "markdown",
      "metadata": {
        "id": "DaaKHVMwW5eG"
      },
      "source": [
        "###Random Forest Regressor"
      ]
    },
    {
      "cell_type": "code",
      "metadata": {
        "id": "KBuSBDm7UhdO"
      },
      "source": [
        "#Random Forest Regressor\n",
        "RFR = RandomForestRegressor()"
      ],
      "execution_count": null,
      "outputs": []
    },
    {
      "cell_type": "code",
      "metadata": {
        "colab": {
          "base_uri": "https://localhost:8080/"
        },
        "id": "LA4Br0YL5_og",
        "outputId": "c5d51cf2-6c11-4199-e0bc-fac70c541af2"
      },
      "source": [
        "#Training the data\n",
        "RFR.fit(X_train, y_train)"
      ],
      "execution_count": null,
      "outputs": [
        {
          "output_type": "execute_result",
          "data": {
            "text/plain": [
              "RandomForestRegressor(bootstrap=True, ccp_alpha=0.0, criterion='mse',\n",
              "                      max_depth=None, max_features='auto', max_leaf_nodes=None,\n",
              "                      max_samples=None, min_impurity_decrease=0.0,\n",
              "                      min_impurity_split=None, min_samples_leaf=1,\n",
              "                      min_samples_split=2, min_weight_fraction_leaf=0.0,\n",
              "                      n_estimators=100, n_jobs=None, oob_score=False,\n",
              "                      random_state=None, verbose=0, warm_start=False)"
            ]
          },
          "metadata": {
            "tags": []
          },
          "execution_count": 41
        }
      ]
    },
    {
      "cell_type": "code",
      "metadata": {
        "id": "6ndTHAQPWB6y",
        "colab": {
          "base_uri": "https://localhost:8080/"
        },
        "outputId": "021af4a6-db9e-4157-b4be-1e70565f1bdf"
      },
      "source": [
        "#Training score of the data\n",
        "RFR.score(X_train, y_train)"
      ],
      "execution_count": null,
      "outputs": [
        {
          "output_type": "execute_result",
          "data": {
            "text/plain": [
              "0.9311134090139545"
            ]
          },
          "metadata": {
            "tags": []
          },
          "execution_count": 42
        }
      ]
    },
    {
      "cell_type": "code",
      "metadata": {
        "id": "GS1TV0IE6NSV"
      },
      "source": [
        "#Prediction of the test variable\n",
        "y_predict = RFR.predict(X_test)"
      ],
      "execution_count": null,
      "outputs": []
    },
    {
      "cell_type": "code",
      "metadata": {
        "id": "K_44mBX76YdE",
        "colab": {
          "base_uri": "https://localhost:8080/"
        },
        "outputId": "3734d6da-38ef-4571-b384-99761373d4aa"
      },
      "source": [
        "#Testing score of the data\n",
        "R2_score = RFR.score(X_test, y_test)\n",
        "R2_score"
      ],
      "execution_count": null,
      "outputs": [
        {
          "output_type": "execute_result",
          "data": {
            "text/plain": [
              "0.7613876293501972"
            ]
          },
          "metadata": {
            "tags": []
          },
          "execution_count": 44
        }
      ]
    },
    {
      "cell_type": "markdown",
      "metadata": {
        "id": "LtnAbDty8lXm"
      },
      "source": [
        "#### Evaluating the Algorithm"
      ]
    },
    {
      "cell_type": "code",
      "metadata": {
        "id": "bn23Mhog6q1Z",
        "colab": {
          "base_uri": "https://localhost:8080/"
        },
        "outputId": "f8ceca56-cc1b-48c9-e30e-393121ebfa3f"
      },
      "source": [
        "#Mean absolute error of the model\n",
        "mae_score = MAE(y_test, y_predict)\n",
        "mae_score"
      ],
      "execution_count": null,
      "outputs": [
        {
          "output_type": "execute_result",
          "data": {
            "text/plain": [
              "166096.2533857301"
            ]
          },
          "metadata": {
            "tags": []
          },
          "execution_count": 45
        }
      ]
    },
    {
      "cell_type": "code",
      "metadata": {
        "id": "bFlCU1x37d2w",
        "colab": {
          "base_uri": "https://localhost:8080/"
        },
        "outputId": "728a9cf4-4d53-4e2f-ca00-861110e9f0e2"
      },
      "source": [
        "#mean squared error of the model\n",
        "mse_score = MSE(y_test, y_predict)\n",
        "mse_score"
      ],
      "execution_count": null,
      "outputs": [
        {
          "output_type": "execute_result",
          "data": {
            "text/plain": [
              "115726873273.71161"
            ]
          },
          "metadata": {
            "tags": []
          },
          "execution_count": 46
        }
      ]
    },
    {
      "cell_type": "code",
      "metadata": {
        "id": "KUog3pUs77NN",
        "colab": {
          "base_uri": "https://localhost:8080/"
        },
        "outputId": "3cfa4152-2e37-4151-a49f-dbd30ee63f06"
      },
      "source": [
        "#root Mean Squared Error of the model\n",
        "rmse_score = np.sqrt(MSE(y_test, y_predict))\n",
        "rmse_score"
      ],
      "execution_count": null,
      "outputs": [
        {
          "output_type": "execute_result",
          "data": {
            "text/plain": [
              "340186.52717841667"
            ]
          },
          "metadata": {
            "tags": []
          },
          "execution_count": 47
        }
      ]
    },
    {
      "cell_type": "markdown",
      "metadata": {
        "id": "JQXPLu3AlqSg"
      },
      "source": [
        "### HyperParameter tuning with Randomized Search CV\n",
        "\n",
        "We are going to tune:\n",
        "* Random Forest Classifier\n",
        "\n",
        "... using RandomizedSearchCV"
      ]
    },
    {
      "cell_type": "code",
      "metadata": {
        "id": "8KSLeaZIV7XR"
      },
      "source": [
        "from sklearn.model_selection import RandomizedSearchCV\n",
        "\n",
        "# Number of trees in random forest\n",
        "n_estimators = [int(x) for x in np.linspace(start = 200, stop = 2000, num = 10)]\n",
        "# Number of features to consider at every split\n",
        "max_features = ['auto', 'sqrt']\n",
        "# Maximum number of levels in tree\n",
        "max_depth = [int(x) for x in np.linspace(10, 110, num = 11)]\n",
        "max_depth.append(None)\n",
        "# Minimum number of samples required to split a node\n",
        "min_samples_split = [2, 5, 10]\n",
        "# Minimum number of samples required at each leaf node\n",
        "min_samples_leaf = [1, 2, 4]\n",
        "# Method of selecting samples for training each tree\n",
        "bootstrap = [True, False]\n",
        "# Create the random grid\n",
        "random_grid = {'n_estimators': n_estimators,\n",
        "               'max_features': max_features,\n",
        "               'max_depth': max_depth,\n",
        "               'min_samples_split': min_samples_split,\n",
        "               'min_samples_leaf': min_samples_leaf,\n",
        "               'bootstrap': bootstrap}"
      ],
      "execution_count": null,
      "outputs": []
    },
    {
      "cell_type": "code",
      "metadata": {
        "colab": {
          "base_uri": "https://localhost:8080/"
        },
        "id": "731qR3fagzAG",
        "outputId": "022ec082-0a5e-49f1-e207-0e3ddf4018f2"
      },
      "source": [
        "#Tune Random Forest Regression\n",
        "np.random.seed(42)\n",
        "\n",
        "#Setup random hyperparameter search for Random Forest Regression\n",
        "rs_rfr_reg=RandomizedSearchCV(RandomForestRegressor(),\n",
        "                              param_distributions=random_grid,\n",
        "                              cv=5,\n",
        "                              n_iter=20,\n",
        "                              verbose=2)\n",
        "\n",
        "#Fit random hyperparameter search for Random Forest Regression\n",
        "rs_rfr_reg.fit(X_train, y_train)"
      ],
      "execution_count": null,
      "outputs": [
        {
          "output_type": "stream",
          "text": [
            "Fitting 5 folds for each of 20 candidates, totalling 100 fits\n",
            "[CV] n_estimators=200, min_samples_split=10, min_samples_leaf=2, max_features=sqrt, max_depth=50, bootstrap=True \n"
          ],
          "name": "stdout"
        },
        {
          "output_type": "stream",
          "text": [
            "[Parallel(n_jobs=1)]: Using backend SequentialBackend with 1 concurrent workers.\n"
          ],
          "name": "stderr"
        },
        {
          "output_type": "stream",
          "text": [
            "[CV]  n_estimators=200, min_samples_split=10, min_samples_leaf=2, max_features=sqrt, max_depth=50, bootstrap=True, total=   0.9s\n",
            "[CV] n_estimators=200, min_samples_split=10, min_samples_leaf=2, max_features=sqrt, max_depth=50, bootstrap=True \n"
          ],
          "name": "stdout"
        },
        {
          "output_type": "stream",
          "text": [
            "[Parallel(n_jobs=1)]: Done   1 out of   1 | elapsed:    0.9s remaining:    0.0s\n"
          ],
          "name": "stderr"
        },
        {
          "output_type": "stream",
          "text": [
            "[CV]  n_estimators=200, min_samples_split=10, min_samples_leaf=2, max_features=sqrt, max_depth=50, bootstrap=True, total=   0.9s\n",
            "[CV] n_estimators=200, min_samples_split=10, min_samples_leaf=2, max_features=sqrt, max_depth=50, bootstrap=True \n",
            "[CV]  n_estimators=200, min_samples_split=10, min_samples_leaf=2, max_features=sqrt, max_depth=50, bootstrap=True, total=   0.9s\n",
            "[CV] n_estimators=200, min_samples_split=10, min_samples_leaf=2, max_features=sqrt, max_depth=50, bootstrap=True \n",
            "[CV]  n_estimators=200, min_samples_split=10, min_samples_leaf=2, max_features=sqrt, max_depth=50, bootstrap=True, total=   0.9s\n",
            "[CV] n_estimators=200, min_samples_split=10, min_samples_leaf=2, max_features=sqrt, max_depth=50, bootstrap=True \n",
            "[CV]  n_estimators=200, min_samples_split=10, min_samples_leaf=2, max_features=sqrt, max_depth=50, bootstrap=True, total=   0.9s\n",
            "[CV] n_estimators=600, min_samples_split=10, min_samples_leaf=4, max_features=sqrt, max_depth=90, bootstrap=False \n",
            "[CV]  n_estimators=600, min_samples_split=10, min_samples_leaf=4, max_features=sqrt, max_depth=90, bootstrap=False, total=   3.0s\n",
            "[CV] n_estimators=600, min_samples_split=10, min_samples_leaf=4, max_features=sqrt, max_depth=90, bootstrap=False \n",
            "[CV]  n_estimators=600, min_samples_split=10, min_samples_leaf=4, max_features=sqrt, max_depth=90, bootstrap=False, total=   3.0s\n",
            "[CV] n_estimators=600, min_samples_split=10, min_samples_leaf=4, max_features=sqrt, max_depth=90, bootstrap=False \n",
            "[CV]  n_estimators=600, min_samples_split=10, min_samples_leaf=4, max_features=sqrt, max_depth=90, bootstrap=False, total=   3.0s\n",
            "[CV] n_estimators=600, min_samples_split=10, min_samples_leaf=4, max_features=sqrt, max_depth=90, bootstrap=False \n",
            "[CV]  n_estimators=600, min_samples_split=10, min_samples_leaf=4, max_features=sqrt, max_depth=90, bootstrap=False, total=   3.0s\n",
            "[CV] n_estimators=600, min_samples_split=10, min_samples_leaf=4, max_features=sqrt, max_depth=90, bootstrap=False \n",
            "[CV]  n_estimators=600, min_samples_split=10, min_samples_leaf=4, max_features=sqrt, max_depth=90, bootstrap=False, total=   3.0s\n",
            "[CV] n_estimators=600, min_samples_split=2, min_samples_leaf=2, max_features=auto, max_depth=60, bootstrap=False \n",
            "[CV]  n_estimators=600, min_samples_split=2, min_samples_leaf=2, max_features=auto, max_depth=60, bootstrap=False, total=   8.4s\n",
            "[CV] n_estimators=600, min_samples_split=2, min_samples_leaf=2, max_features=auto, max_depth=60, bootstrap=False \n",
            "[CV]  n_estimators=600, min_samples_split=2, min_samples_leaf=2, max_features=auto, max_depth=60, bootstrap=False, total=   8.2s\n",
            "[CV] n_estimators=600, min_samples_split=2, min_samples_leaf=2, max_features=auto, max_depth=60, bootstrap=False \n",
            "[CV]  n_estimators=600, min_samples_split=2, min_samples_leaf=2, max_features=auto, max_depth=60, bootstrap=False, total=   8.2s\n",
            "[CV] n_estimators=600, min_samples_split=2, min_samples_leaf=2, max_features=auto, max_depth=60, bootstrap=False \n",
            "[CV]  n_estimators=600, min_samples_split=2, min_samples_leaf=2, max_features=auto, max_depth=60, bootstrap=False, total=   8.2s\n",
            "[CV] n_estimators=600, min_samples_split=2, min_samples_leaf=2, max_features=auto, max_depth=60, bootstrap=False \n",
            "[CV]  n_estimators=600, min_samples_split=2, min_samples_leaf=2, max_features=auto, max_depth=60, bootstrap=False, total=   8.3s\n",
            "[CV] n_estimators=1400, min_samples_split=5, min_samples_leaf=1, max_features=sqrt, max_depth=30, bootstrap=True \n",
            "[CV]  n_estimators=1400, min_samples_split=5, min_samples_leaf=1, max_features=sqrt, max_depth=30, bootstrap=True, total=   7.9s\n",
            "[CV] n_estimators=1400, min_samples_split=5, min_samples_leaf=1, max_features=sqrt, max_depth=30, bootstrap=True \n",
            "[CV]  n_estimators=1400, min_samples_split=5, min_samples_leaf=1, max_features=sqrt, max_depth=30, bootstrap=True, total=   7.9s\n",
            "[CV] n_estimators=1400, min_samples_split=5, min_samples_leaf=1, max_features=sqrt, max_depth=30, bootstrap=True \n",
            "[CV]  n_estimators=1400, min_samples_split=5, min_samples_leaf=1, max_features=sqrt, max_depth=30, bootstrap=True, total=   7.9s\n",
            "[CV] n_estimators=1400, min_samples_split=5, min_samples_leaf=1, max_features=sqrt, max_depth=30, bootstrap=True \n",
            "[CV]  n_estimators=1400, min_samples_split=5, min_samples_leaf=1, max_features=sqrt, max_depth=30, bootstrap=True, total=   7.8s\n",
            "[CV] n_estimators=1400, min_samples_split=5, min_samples_leaf=1, max_features=sqrt, max_depth=30, bootstrap=True \n",
            "[CV]  n_estimators=1400, min_samples_split=5, min_samples_leaf=1, max_features=sqrt, max_depth=30, bootstrap=True, total=   7.9s\n",
            "[CV] n_estimators=1000, min_samples_split=10, min_samples_leaf=1, max_features=auto, max_depth=80, bootstrap=False \n",
            "[CV]  n_estimators=1000, min_samples_split=10, min_samples_leaf=1, max_features=auto, max_depth=80, bootstrap=False, total=  13.2s\n",
            "[CV] n_estimators=1000, min_samples_split=10, min_samples_leaf=1, max_features=auto, max_depth=80, bootstrap=False \n",
            "[CV]  n_estimators=1000, min_samples_split=10, min_samples_leaf=1, max_features=auto, max_depth=80, bootstrap=False, total=  13.1s\n",
            "[CV] n_estimators=1000, min_samples_split=10, min_samples_leaf=1, max_features=auto, max_depth=80, bootstrap=False \n",
            "[CV]  n_estimators=1000, min_samples_split=10, min_samples_leaf=1, max_features=auto, max_depth=80, bootstrap=False, total=  13.2s\n",
            "[CV] n_estimators=1000, min_samples_split=10, min_samples_leaf=1, max_features=auto, max_depth=80, bootstrap=False \n",
            "[CV]  n_estimators=1000, min_samples_split=10, min_samples_leaf=1, max_features=auto, max_depth=80, bootstrap=False, total=  13.3s\n",
            "[CV] n_estimators=1000, min_samples_split=10, min_samples_leaf=1, max_features=auto, max_depth=80, bootstrap=False \n",
            "[CV]  n_estimators=1000, min_samples_split=10, min_samples_leaf=1, max_features=auto, max_depth=80, bootstrap=False, total=  13.2s\n",
            "[CV] n_estimators=400, min_samples_split=10, min_samples_leaf=1, max_features=sqrt, max_depth=60, bootstrap=False \n",
            "[CV]  n_estimators=400, min_samples_split=10, min_samples_leaf=1, max_features=sqrt, max_depth=60, bootstrap=False, total=   2.6s\n",
            "[CV] n_estimators=400, min_samples_split=10, min_samples_leaf=1, max_features=sqrt, max_depth=60, bootstrap=False \n",
            "[CV]  n_estimators=400, min_samples_split=10, min_samples_leaf=1, max_features=sqrt, max_depth=60, bootstrap=False, total=   2.6s\n",
            "[CV] n_estimators=400, min_samples_split=10, min_samples_leaf=1, max_features=sqrt, max_depth=60, bootstrap=False \n",
            "[CV]  n_estimators=400, min_samples_split=10, min_samples_leaf=1, max_features=sqrt, max_depth=60, bootstrap=False, total=   2.6s\n",
            "[CV] n_estimators=400, min_samples_split=10, min_samples_leaf=1, max_features=sqrt, max_depth=60, bootstrap=False \n",
            "[CV]  n_estimators=400, min_samples_split=10, min_samples_leaf=1, max_features=sqrt, max_depth=60, bootstrap=False, total=   2.7s\n",
            "[CV] n_estimators=400, min_samples_split=10, min_samples_leaf=1, max_features=sqrt, max_depth=60, bootstrap=False \n",
            "[CV]  n_estimators=400, min_samples_split=10, min_samples_leaf=1, max_features=sqrt, max_depth=60, bootstrap=False, total=   2.6s\n",
            "[CV] n_estimators=2000, min_samples_split=2, min_samples_leaf=2, max_features=auto, max_depth=50, bootstrap=False \n",
            "[CV]  n_estimators=2000, min_samples_split=2, min_samples_leaf=2, max_features=auto, max_depth=50, bootstrap=False, total=  27.4s\n",
            "[CV] n_estimators=2000, min_samples_split=2, min_samples_leaf=2, max_features=auto, max_depth=50, bootstrap=False \n",
            "[CV]  n_estimators=2000, min_samples_split=2, min_samples_leaf=2, max_features=auto, max_depth=50, bootstrap=False, total=  27.1s\n",
            "[CV] n_estimators=2000, min_samples_split=2, min_samples_leaf=2, max_features=auto, max_depth=50, bootstrap=False \n",
            "[CV]  n_estimators=2000, min_samples_split=2, min_samples_leaf=2, max_features=auto, max_depth=50, bootstrap=False, total=  27.2s\n",
            "[CV] n_estimators=2000, min_samples_split=2, min_samples_leaf=2, max_features=auto, max_depth=50, bootstrap=False \n",
            "[CV]  n_estimators=2000, min_samples_split=2, min_samples_leaf=2, max_features=auto, max_depth=50, bootstrap=False, total=  27.2s\n",
            "[CV] n_estimators=2000, min_samples_split=2, min_samples_leaf=2, max_features=auto, max_depth=50, bootstrap=False \n",
            "[CV]  n_estimators=2000, min_samples_split=2, min_samples_leaf=2, max_features=auto, max_depth=50, bootstrap=False, total=  27.5s\n",
            "[CV] n_estimators=200, min_samples_split=5, min_samples_leaf=2, max_features=sqrt, max_depth=10, bootstrap=True \n",
            "[CV]  n_estimators=200, min_samples_split=5, min_samples_leaf=2, max_features=sqrt, max_depth=10, bootstrap=True, total=   0.7s\n",
            "[CV] n_estimators=200, min_samples_split=5, min_samples_leaf=2, max_features=sqrt, max_depth=10, bootstrap=True \n",
            "[CV]  n_estimators=200, min_samples_split=5, min_samples_leaf=2, max_features=sqrt, max_depth=10, bootstrap=True, total=   0.7s\n",
            "[CV] n_estimators=200, min_samples_split=5, min_samples_leaf=2, max_features=sqrt, max_depth=10, bootstrap=True \n",
            "[CV]  n_estimators=200, min_samples_split=5, min_samples_leaf=2, max_features=sqrt, max_depth=10, bootstrap=True, total=   0.7s\n",
            "[CV] n_estimators=200, min_samples_split=5, min_samples_leaf=2, max_features=sqrt, max_depth=10, bootstrap=True \n",
            "[CV]  n_estimators=200, min_samples_split=5, min_samples_leaf=2, max_features=sqrt, max_depth=10, bootstrap=True, total=   0.7s\n",
            "[CV] n_estimators=200, min_samples_split=5, min_samples_leaf=2, max_features=sqrt, max_depth=10, bootstrap=True \n",
            "[CV]  n_estimators=200, min_samples_split=5, min_samples_leaf=2, max_features=sqrt, max_depth=10, bootstrap=True, total=   0.7s\n",
            "[CV] n_estimators=1200, min_samples_split=2, min_samples_leaf=4, max_features=auto, max_depth=100, bootstrap=True \n",
            "[CV]  n_estimators=1200, min_samples_split=2, min_samples_leaf=4, max_features=auto, max_depth=100, bootstrap=True, total=  10.4s\n",
            "[CV] n_estimators=1200, min_samples_split=2, min_samples_leaf=4, max_features=auto, max_depth=100, bootstrap=True \n",
            "[CV]  n_estimators=1200, min_samples_split=2, min_samples_leaf=4, max_features=auto, max_depth=100, bootstrap=True, total=  10.2s\n",
            "[CV] n_estimators=1200, min_samples_split=2, min_samples_leaf=4, max_features=auto, max_depth=100, bootstrap=True \n",
            "[CV]  n_estimators=1200, min_samples_split=2, min_samples_leaf=4, max_features=auto, max_depth=100, bootstrap=True, total=  10.3s\n",
            "[CV] n_estimators=1200, min_samples_split=2, min_samples_leaf=4, max_features=auto, max_depth=100, bootstrap=True \n",
            "[CV]  n_estimators=1200, min_samples_split=2, min_samples_leaf=4, max_features=auto, max_depth=100, bootstrap=True, total=  10.3s\n",
            "[CV] n_estimators=1200, min_samples_split=2, min_samples_leaf=4, max_features=auto, max_depth=100, bootstrap=True \n",
            "[CV]  n_estimators=1200, min_samples_split=2, min_samples_leaf=4, max_features=auto, max_depth=100, bootstrap=True, total=  10.3s\n",
            "[CV] n_estimators=2000, min_samples_split=5, min_samples_leaf=2, max_features=auto, max_depth=50, bootstrap=True \n",
            "[CV]  n_estimators=2000, min_samples_split=5, min_samples_leaf=2, max_features=auto, max_depth=50, bootstrap=True, total=  19.0s\n",
            "[CV] n_estimators=2000, min_samples_split=5, min_samples_leaf=2, max_features=auto, max_depth=50, bootstrap=True \n",
            "[CV]  n_estimators=2000, min_samples_split=5, min_samples_leaf=2, max_features=auto, max_depth=50, bootstrap=True, total=  18.8s\n",
            "[CV] n_estimators=2000, min_samples_split=5, min_samples_leaf=2, max_features=auto, max_depth=50, bootstrap=True \n",
            "[CV]  n_estimators=2000, min_samples_split=5, min_samples_leaf=2, max_features=auto, max_depth=50, bootstrap=True, total=  18.9s\n",
            "[CV] n_estimators=2000, min_samples_split=5, min_samples_leaf=2, max_features=auto, max_depth=50, bootstrap=True \n",
            "[CV]  n_estimators=2000, min_samples_split=5, min_samples_leaf=2, max_features=auto, max_depth=50, bootstrap=True, total=  19.0s\n",
            "[CV] n_estimators=2000, min_samples_split=5, min_samples_leaf=2, max_features=auto, max_depth=50, bootstrap=True \n",
            "[CV]  n_estimators=2000, min_samples_split=5, min_samples_leaf=2, max_features=auto, max_depth=50, bootstrap=True, total=  19.0s\n",
            "[CV] n_estimators=400, min_samples_split=10, min_samples_leaf=2, max_features=auto, max_depth=20, bootstrap=False \n",
            "[CV]  n_estimators=400, min_samples_split=10, min_samples_leaf=2, max_features=auto, max_depth=20, bootstrap=False, total=   5.0s\n",
            "[CV] n_estimators=400, min_samples_split=10, min_samples_leaf=2, max_features=auto, max_depth=20, bootstrap=False \n",
            "[CV]  n_estimators=400, min_samples_split=10, min_samples_leaf=2, max_features=auto, max_depth=20, bootstrap=False, total=   5.0s\n",
            "[CV] n_estimators=400, min_samples_split=10, min_samples_leaf=2, max_features=auto, max_depth=20, bootstrap=False \n",
            "[CV]  n_estimators=400, min_samples_split=10, min_samples_leaf=2, max_features=auto, max_depth=20, bootstrap=False, total=   5.0s\n",
            "[CV] n_estimators=400, min_samples_split=10, min_samples_leaf=2, max_features=auto, max_depth=20, bootstrap=False \n",
            "[CV]  n_estimators=400, min_samples_split=10, min_samples_leaf=2, max_features=auto, max_depth=20, bootstrap=False, total=   5.0s\n",
            "[CV] n_estimators=400, min_samples_split=10, min_samples_leaf=2, max_features=auto, max_depth=20, bootstrap=False \n",
            "[CV]  n_estimators=400, min_samples_split=10, min_samples_leaf=2, max_features=auto, max_depth=20, bootstrap=False, total=   5.1s\n",
            "[CV] n_estimators=800, min_samples_split=2, min_samples_leaf=1, max_features=sqrt, max_depth=20, bootstrap=False \n",
            "[CV]  n_estimators=800, min_samples_split=2, min_samples_leaf=1, max_features=sqrt, max_depth=20, bootstrap=False, total=   6.7s\n",
            "[CV] n_estimators=800, min_samples_split=2, min_samples_leaf=1, max_features=sqrt, max_depth=20, bootstrap=False \n",
            "[CV]  n_estimators=800, min_samples_split=2, min_samples_leaf=1, max_features=sqrt, max_depth=20, bootstrap=False, total=   6.7s\n",
            "[CV] n_estimators=800, min_samples_split=2, min_samples_leaf=1, max_features=sqrt, max_depth=20, bootstrap=False \n",
            "[CV]  n_estimators=800, min_samples_split=2, min_samples_leaf=1, max_features=sqrt, max_depth=20, bootstrap=False, total=   6.6s\n",
            "[CV] n_estimators=800, min_samples_split=2, min_samples_leaf=1, max_features=sqrt, max_depth=20, bootstrap=False \n",
            "[CV]  n_estimators=800, min_samples_split=2, min_samples_leaf=1, max_features=sqrt, max_depth=20, bootstrap=False, total=   6.6s\n",
            "[CV] n_estimators=800, min_samples_split=2, min_samples_leaf=1, max_features=sqrt, max_depth=20, bootstrap=False \n",
            "[CV]  n_estimators=800, min_samples_split=2, min_samples_leaf=1, max_features=sqrt, max_depth=20, bootstrap=False, total=   6.6s\n",
            "[CV] n_estimators=1000, min_samples_split=5, min_samples_leaf=1, max_features=sqrt, max_depth=70, bootstrap=True \n",
            "[CV]  n_estimators=1000, min_samples_split=5, min_samples_leaf=1, max_features=sqrt, max_depth=70, bootstrap=True, total=   5.6s\n",
            "[CV] n_estimators=1000, min_samples_split=5, min_samples_leaf=1, max_features=sqrt, max_depth=70, bootstrap=True \n",
            "[CV]  n_estimators=1000, min_samples_split=5, min_samples_leaf=1, max_features=sqrt, max_depth=70, bootstrap=True, total=   5.6s\n",
            "[CV] n_estimators=1000, min_samples_split=5, min_samples_leaf=1, max_features=sqrt, max_depth=70, bootstrap=True \n",
            "[CV]  n_estimators=1000, min_samples_split=5, min_samples_leaf=1, max_features=sqrt, max_depth=70, bootstrap=True, total=   5.6s\n",
            "[CV] n_estimators=1000, min_samples_split=5, min_samples_leaf=1, max_features=sqrt, max_depth=70, bootstrap=True \n",
            "[CV]  n_estimators=1000, min_samples_split=5, min_samples_leaf=1, max_features=sqrt, max_depth=70, bootstrap=True, total=   5.6s\n",
            "[CV] n_estimators=1000, min_samples_split=5, min_samples_leaf=1, max_features=sqrt, max_depth=70, bootstrap=True \n",
            "[CV]  n_estimators=1000, min_samples_split=5, min_samples_leaf=1, max_features=sqrt, max_depth=70, bootstrap=True, total=   5.6s\n",
            "[CV] n_estimators=1200, min_samples_split=10, min_samples_leaf=2, max_features=sqrt, max_depth=70, bootstrap=False \n",
            "[CV]  n_estimators=1200, min_samples_split=10, min_samples_leaf=2, max_features=sqrt, max_depth=70, bootstrap=False, total=   6.9s\n",
            "[CV] n_estimators=1200, min_samples_split=10, min_samples_leaf=2, max_features=sqrt, max_depth=70, bootstrap=False \n",
            "[CV]  n_estimators=1200, min_samples_split=10, min_samples_leaf=2, max_features=sqrt, max_depth=70, bootstrap=False, total=   6.8s\n",
            "[CV] n_estimators=1200, min_samples_split=10, min_samples_leaf=2, max_features=sqrt, max_depth=70, bootstrap=False \n",
            "[CV]  n_estimators=1200, min_samples_split=10, min_samples_leaf=2, max_features=sqrt, max_depth=70, bootstrap=False, total=   6.9s\n",
            "[CV] n_estimators=1200, min_samples_split=10, min_samples_leaf=2, max_features=sqrt, max_depth=70, bootstrap=False \n",
            "[CV]  n_estimators=1200, min_samples_split=10, min_samples_leaf=2, max_features=sqrt, max_depth=70, bootstrap=False, total=   6.8s\n",
            "[CV] n_estimators=1200, min_samples_split=10, min_samples_leaf=2, max_features=sqrt, max_depth=70, bootstrap=False \n",
            "[CV]  n_estimators=1200, min_samples_split=10, min_samples_leaf=2, max_features=sqrt, max_depth=70, bootstrap=False, total=   6.9s\n",
            "[CV] n_estimators=1600, min_samples_split=2, min_samples_leaf=4, max_features=sqrt, max_depth=110, bootstrap=False \n",
            "[CV]  n_estimators=1600, min_samples_split=2, min_samples_leaf=4, max_features=sqrt, max_depth=110, bootstrap=False, total=   7.9s\n",
            "[CV] n_estimators=1600, min_samples_split=2, min_samples_leaf=4, max_features=sqrt, max_depth=110, bootstrap=False \n",
            "[CV]  n_estimators=1600, min_samples_split=2, min_samples_leaf=4, max_features=sqrt, max_depth=110, bootstrap=False, total=   8.0s\n",
            "[CV] n_estimators=1600, min_samples_split=2, min_samples_leaf=4, max_features=sqrt, max_depth=110, bootstrap=False \n",
            "[CV]  n_estimators=1600, min_samples_split=2, min_samples_leaf=4, max_features=sqrt, max_depth=110, bootstrap=False, total=   7.9s\n",
            "[CV] n_estimators=1600, min_samples_split=2, min_samples_leaf=4, max_features=sqrt, max_depth=110, bootstrap=False \n",
            "[CV]  n_estimators=1600, min_samples_split=2, min_samples_leaf=4, max_features=sqrt, max_depth=110, bootstrap=False, total=   8.0s\n",
            "[CV] n_estimators=1600, min_samples_split=2, min_samples_leaf=4, max_features=sqrt, max_depth=110, bootstrap=False \n",
            "[CV]  n_estimators=1600, min_samples_split=2, min_samples_leaf=4, max_features=sqrt, max_depth=110, bootstrap=False, total=   8.0s\n",
            "[CV] n_estimators=1000, min_samples_split=10, min_samples_leaf=1, max_features=auto, max_depth=50, bootstrap=False \n",
            "[CV]  n_estimators=1000, min_samples_split=10, min_samples_leaf=1, max_features=auto, max_depth=50, bootstrap=False, total=  13.2s\n",
            "[CV] n_estimators=1000, min_samples_split=10, min_samples_leaf=1, max_features=auto, max_depth=50, bootstrap=False \n",
            "[CV]  n_estimators=1000, min_samples_split=10, min_samples_leaf=1, max_features=auto, max_depth=50, bootstrap=False, total=  13.1s\n",
            "[CV] n_estimators=1000, min_samples_split=10, min_samples_leaf=1, max_features=auto, max_depth=50, bootstrap=False \n",
            "[CV]  n_estimators=1000, min_samples_split=10, min_samples_leaf=1, max_features=auto, max_depth=50, bootstrap=False, total=  13.3s\n",
            "[CV] n_estimators=1000, min_samples_split=10, min_samples_leaf=1, max_features=auto, max_depth=50, bootstrap=False \n",
            "[CV]  n_estimators=1000, min_samples_split=10, min_samples_leaf=1, max_features=auto, max_depth=50, bootstrap=False, total=  13.2s\n",
            "[CV] n_estimators=1000, min_samples_split=10, min_samples_leaf=1, max_features=auto, max_depth=50, bootstrap=False \n",
            "[CV]  n_estimators=1000, min_samples_split=10, min_samples_leaf=1, max_features=auto, max_depth=50, bootstrap=False, total=  13.2s\n",
            "[CV] n_estimators=1000, min_samples_split=10, min_samples_leaf=1, max_features=sqrt, max_depth=30, bootstrap=True \n",
            "[CV]  n_estimators=1000, min_samples_split=10, min_samples_leaf=1, max_features=sqrt, max_depth=30, bootstrap=True, total=   4.9s\n",
            "[CV] n_estimators=1000, min_samples_split=10, min_samples_leaf=1, max_features=sqrt, max_depth=30, bootstrap=True \n",
            "[CV]  n_estimators=1000, min_samples_split=10, min_samples_leaf=1, max_features=sqrt, max_depth=30, bootstrap=True, total=   4.9s\n",
            "[CV] n_estimators=1000, min_samples_split=10, min_samples_leaf=1, max_features=sqrt, max_depth=30, bootstrap=True \n",
            "[CV]  n_estimators=1000, min_samples_split=10, min_samples_leaf=1, max_features=sqrt, max_depth=30, bootstrap=True, total=   4.9s\n",
            "[CV] n_estimators=1000, min_samples_split=10, min_samples_leaf=1, max_features=sqrt, max_depth=30, bootstrap=True \n",
            "[CV]  n_estimators=1000, min_samples_split=10, min_samples_leaf=1, max_features=sqrt, max_depth=30, bootstrap=True, total=   4.9s\n",
            "[CV] n_estimators=1000, min_samples_split=10, min_samples_leaf=1, max_features=sqrt, max_depth=30, bootstrap=True \n",
            "[CV]  n_estimators=1000, min_samples_split=10, min_samples_leaf=1, max_features=sqrt, max_depth=30, bootstrap=True, total=   4.9s\n",
            "[CV] n_estimators=600, min_samples_split=2, min_samples_leaf=1, max_features=auto, max_depth=70, bootstrap=True \n",
            "[CV]  n_estimators=600, min_samples_split=2, min_samples_leaf=1, max_features=auto, max_depth=70, bootstrap=True, total=   6.7s\n",
            "[CV] n_estimators=600, min_samples_split=2, min_samples_leaf=1, max_features=auto, max_depth=70, bootstrap=True \n",
            "[CV]  n_estimators=600, min_samples_split=2, min_samples_leaf=1, max_features=auto, max_depth=70, bootstrap=True, total=   6.6s\n",
            "[CV] n_estimators=600, min_samples_split=2, min_samples_leaf=1, max_features=auto, max_depth=70, bootstrap=True \n",
            "[CV]  n_estimators=600, min_samples_split=2, min_samples_leaf=1, max_features=auto, max_depth=70, bootstrap=True, total=   6.7s\n",
            "[CV] n_estimators=600, min_samples_split=2, min_samples_leaf=1, max_features=auto, max_depth=70, bootstrap=True \n",
            "[CV]  n_estimators=600, min_samples_split=2, min_samples_leaf=1, max_features=auto, max_depth=70, bootstrap=True, total=   6.6s\n",
            "[CV] n_estimators=600, min_samples_split=2, min_samples_leaf=1, max_features=auto, max_depth=70, bootstrap=True \n",
            "[CV]  n_estimators=600, min_samples_split=2, min_samples_leaf=1, max_features=auto, max_depth=70, bootstrap=True, total=   6.7s\n",
            "[CV] n_estimators=1800, min_samples_split=2, min_samples_leaf=2, max_features=auto, max_depth=30, bootstrap=False \n",
            "[CV]  n_estimators=1800, min_samples_split=2, min_samples_leaf=2, max_features=auto, max_depth=30, bootstrap=False, total=  24.6s\n",
            "[CV] n_estimators=1800, min_samples_split=2, min_samples_leaf=2, max_features=auto, max_depth=30, bootstrap=False \n",
            "[CV]  n_estimators=1800, min_samples_split=2, min_samples_leaf=2, max_features=auto, max_depth=30, bootstrap=False, total=  24.3s\n",
            "[CV] n_estimators=1800, min_samples_split=2, min_samples_leaf=2, max_features=auto, max_depth=30, bootstrap=False \n",
            "[CV]  n_estimators=1800, min_samples_split=2, min_samples_leaf=2, max_features=auto, max_depth=30, bootstrap=False, total=  24.6s\n",
            "[CV] n_estimators=1800, min_samples_split=2, min_samples_leaf=2, max_features=auto, max_depth=30, bootstrap=False \n",
            "[CV]  n_estimators=1800, min_samples_split=2, min_samples_leaf=2, max_features=auto, max_depth=30, bootstrap=False, total=  24.4s\n",
            "[CV] n_estimators=1800, min_samples_split=2, min_samples_leaf=2, max_features=auto, max_depth=30, bootstrap=False \n",
            "[CV]  n_estimators=1800, min_samples_split=2, min_samples_leaf=2, max_features=auto, max_depth=30, bootstrap=False, total=  24.8s\n",
            "[CV] n_estimators=1600, min_samples_split=2, min_samples_leaf=4, max_features=auto, max_depth=None, bootstrap=True \n",
            "[CV]  n_estimators=1600, min_samples_split=2, min_samples_leaf=4, max_features=auto, max_depth=None, bootstrap=True, total=  13.7s\n",
            "[CV] n_estimators=1600, min_samples_split=2, min_samples_leaf=4, max_features=auto, max_depth=None, bootstrap=True \n",
            "[CV]  n_estimators=1600, min_samples_split=2, min_samples_leaf=4, max_features=auto, max_depth=None, bootstrap=True, total=  13.6s\n",
            "[CV] n_estimators=1600, min_samples_split=2, min_samples_leaf=4, max_features=auto, max_depth=None, bootstrap=True \n",
            "[CV]  n_estimators=1600, min_samples_split=2, min_samples_leaf=4, max_features=auto, max_depth=None, bootstrap=True, total=  13.7s\n",
            "[CV] n_estimators=1600, min_samples_split=2, min_samples_leaf=4, max_features=auto, max_depth=None, bootstrap=True \n",
            "[CV]  n_estimators=1600, min_samples_split=2, min_samples_leaf=4, max_features=auto, max_depth=None, bootstrap=True, total=  13.7s\n",
            "[CV] n_estimators=1600, min_samples_split=2, min_samples_leaf=4, max_features=auto, max_depth=None, bootstrap=True \n",
            "[CV]  n_estimators=1600, min_samples_split=2, min_samples_leaf=4, max_features=auto, max_depth=None, bootstrap=True, total=  13.7s\n"
          ],
          "name": "stdout"
        },
        {
          "output_type": "stream",
          "text": [
            "[Parallel(n_jobs=1)]: Done 100 out of 100 | elapsed: 15.7min finished\n"
          ],
          "name": "stderr"
        },
        {
          "output_type": "execute_result",
          "data": {
            "text/plain": [
              "RandomizedSearchCV(cv=5, error_score=nan,\n",
              "                   estimator=RandomForestRegressor(bootstrap=True,\n",
              "                                                   ccp_alpha=0.0,\n",
              "                                                   criterion='mse',\n",
              "                                                   max_depth=None,\n",
              "                                                   max_features='auto',\n",
              "                                                   max_leaf_nodes=None,\n",
              "                                                   max_samples=None,\n",
              "                                                   min_impurity_decrease=0.0,\n",
              "                                                   min_impurity_split=None,\n",
              "                                                   min_samples_leaf=1,\n",
              "                                                   min_samples_split=2,\n",
              "                                                   min_weight_fraction_leaf=0.0,\n",
              "                                                   n_estimators=100,\n",
              "                                                   n_jobs=None, oob_score=Fals...\n",
              "                   param_distributions={'bootstrap': [True, False],\n",
              "                                        'max_depth': [10, 20, 30, 40, 50, 60,\n",
              "                                                      70, 80, 90, 100, 110,\n",
              "                                                      None],\n",
              "                                        'max_features': ['auto', 'sqrt'],\n",
              "                                        'min_samples_leaf': [1, 2, 4],\n",
              "                                        'min_samples_split': [2, 5, 10],\n",
              "                                        'n_estimators': [200, 400, 600, 800,\n",
              "                                                         1000, 1200, 1400, 1600,\n",
              "                                                         1800, 2000]},\n",
              "                   pre_dispatch='2*n_jobs', random_state=None, refit=True,\n",
              "                   return_train_score=False, scoring=None, verbose=2)"
            ]
          },
          "metadata": {
            "tags": []
          },
          "execution_count": 49
        }
      ]
    },
    {
      "cell_type": "code",
      "metadata": {
        "colab": {
          "base_uri": "https://localhost:8080/"
        },
        "id": "NUDH2ojRJfIX",
        "outputId": "a4c5e1ce-5d59-47eb-f463-7076bd96c415"
      },
      "source": [
        "#best parameters of the model\n",
        "rs_rfr_reg.best_params_"
      ],
      "execution_count": null,
      "outputs": [
        {
          "output_type": "execute_result",
          "data": {
            "text/plain": [
              "{'bootstrap': True,\n",
              " 'max_depth': 30,\n",
              " 'max_features': 'sqrt',\n",
              " 'min_samples_leaf': 1,\n",
              " 'min_samples_split': 10,\n",
              " 'n_estimators': 1000}"
            ]
          },
          "metadata": {
            "tags": []
          },
          "execution_count": 50
        }
      ]
    },
    {
      "cell_type": "code",
      "metadata": {
        "colab": {
          "base_uri": "https://localhost:8080/"
        },
        "id": "7QOdo97OjBRe",
        "outputId": "4717dd0d-70ee-48c0-e68f-24d4d06e2eca"
      },
      "source": [
        "#testing score of the model after tunning\n",
        "rs_rfr_reg.score(X_test,y_test)"
      ],
      "execution_count": null,
      "outputs": [
        {
          "output_type": "execute_result",
          "data": {
            "text/plain": [
              "0.7878995272529107"
            ]
          },
          "metadata": {
            "tags": []
          },
          "execution_count": 51
        }
      ]
    },
    {
      "cell_type": "markdown",
      "metadata": {
        "id": "WBmLLKFRlqSk"
      },
      "source": [
        "<br>\n",
        "\n",
        "## Feature Importance\n",
        "\n",
        "Let's find the feature importance for our Random Forest Regression model..."
      ]
    },
    {
      "cell_type": "code",
      "metadata": {
        "colab": {
          "base_uri": "https://localhost:8080/"
        },
        "id": "RsKmOl0s-Tuw",
        "outputId": "8adc036e-2f68-4638-cfcd-6bd33e537732"
      },
      "source": [
        "# Helps to find Coefficients\n",
        "importance = RFR.feature_importances_\n",
        "importance"
      ],
      "execution_count": null,
      "outputs": [
        {
          "output_type": "execute_result",
          "data": {
            "text/plain": [
              "array([2.43322761e-01, 2.10035128e-01, 5.99182752e-02, 0.00000000e+00,\n",
              "       1.45579390e-05, 4.85309572e-02, 7.40227230e-02, 4.73341144e-03,\n",
              "       3.40703129e-01, 3.50463971e-04, 1.08719441e-02, 6.24088928e-03,\n",
              "       1.25575967e-03])"
            ]
          },
          "metadata": {
            "tags": []
          },
          "execution_count": 52
        }
      ]
    },
    {
      "cell_type": "code",
      "metadata": {
        "colab": {
          "base_uri": "https://localhost:8080/"
        },
        "id": "BbvEH3NH-dWF",
        "outputId": "af468411-c13e-4f59-e501-0fd32bb47c07"
      },
      "source": [
        "# These coef's tell how much and in what way did each one of it contribute to predicting the target variable\n",
        "# summarize feature importance\n",
        "col = X.columns\n",
        "features = {}\n",
        "for i,v in enumerate(importance):\n",
        "  features[col[i]]=v\n",
        "\n",
        "features\n"
      ],
      "execution_count": null,
      "outputs": [
        {
          "output_type": "execute_result",
          "data": {
            "text/plain": [
              "{'Fuel_Type_Diesel': 0.05991827522166009,\n",
              " 'Fuel_Type_Electric': 0.0,\n",
              " 'Fuel_Type_LPG': 1.4557939023373657e-05,\n",
              " 'Fuel_Type_Petrol': 0.04853095724819468,\n",
              " 'Kms_Driven': 0.24332276107491363,\n",
              " 'Owner_Fourth & Above Owner': 0.0003504639709232939,\n",
              " 'Owner_Second Owner': 0.01087194411683878,\n",
              " 'Owner_Test Drive Car': 0.006240889277937706,\n",
              " 'Owner_Third Owner': 0.001255759671173785,\n",
              " 'Seller_Type_Individual': 0.07402272296160872,\n",
              " 'Seller_Type_Trustmark Dealer': 0.004733411441232601,\n",
              " 'Transmission_Manual': 0.3407031291939044,\n",
              " 'Years': 0.21003512788258882}"
            ]
          },
          "metadata": {
            "tags": []
          },
          "execution_count": 53
        }
      ]
    },
    {
      "cell_type": "code",
      "metadata": {
        "colab": {
          "base_uri": "https://localhost:8080/",
          "height": 439
        },
        "id": "WG6kyeilOnU2",
        "outputId": "ebcc7cb7-2b1b-4855-ba3e-1921ece73bde"
      },
      "source": [
        "#Visualize feature importance\n",
        "feature_df=pd.DataFrame(features,index=[0])\n",
        "feature_df.T.plot(kind=\"bar\",legend=False,title=\"Feature Importance\")"
      ],
      "execution_count": null,
      "outputs": [
        {
          "output_type": "execute_result",
          "data": {
            "text/plain": [
              "<matplotlib.axes._subplots.AxesSubplot at 0x7fd811ad5c90>"
            ]
          },
          "metadata": {
            "tags": []
          },
          "execution_count": 54
        },
        {
          "output_type": "display_data",
          "data": {
            "image/png": "[encoded data removed]",
            "text/plain": [
              "<Figure size 432x288 with 1 Axes>"
            ]
          },
          "metadata": {
            "tags": [],
            "needs_background": "light"
          }
        }
      ]
    },
    {
      "cell_type": "markdown",
      "metadata": {
        "id": "8gbUBEgtMIim"
      },
      "source": [
        "Transmission Manual is the feature has highest importance"
      ]
    },
    {
      "cell_type": "markdown",
      "metadata": {
        "id": "dmlqCkVY-vZP"
      },
      "source": [
        "###Saving the trained model "
      ]
    },
    {
      "cell_type": "code",
      "metadata": {
        "id": "_8NqDCK2rO0q"
      },
      "source": [
        "#loading the package pickle\n",
        "import pickle "
      ],
      "execution_count": null,
      "outputs": []
    },
    {
      "cell_type": "code",
      "metadata": {
        "id": "FhEICDRMraed"
      },
      "source": [
        "#saving the trained model into a pkl binary file\n",
        "file = open('car_price_prediction.pkl','wb')\n",
        "pickle.dump(rs_rfr_reg,file)"
      ],
      "execution_count": null,
      "outputs": []
    }
  ]
}